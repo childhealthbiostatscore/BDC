{
 "cells": [
  {
   "cell_type": "code",
   "execution_count": 11,
   "metadata": {},
   "outputs": [
    {
     "data": {
      "text/html": [
       "<table class=\"data-frame\"><thead><tr><th></th><th>subject_id</th><th>redcap_event_name</th><th>redcap_survey_identifier</th><th>date_demo</th><th>first_name</th></tr><tr><th></th><th>String</th><th>String</th><th>Missing</th><th>Dates…⍰</th><th>String⍰</th></tr></thead><tbody><p>426 rows × 540 columns (omitted printing of 535 columns)</p><tr><th>1</th><td>1</td><td>baseline_informati_arm_1</td><td>missing</td><td>2015-09-03</td><td>Tasnim</td></tr><tr><th>2</th><td>1</td><td>preconception_arm_1</td><td>missing</td><td>missing</td><td>missing</td></tr><tr><th>3</th><td>1</td><td>visit_1_4_to_6_wee_arm_1</td><td>missing</td><td>missing</td><td>missing</td></tr><tr><th>4</th><td>1</td><td>visit_3_8_to_10_we_arm_1</td><td>missing</td><td>missing</td><td>missing</td></tr><tr><th>5</th><td>1</td><td>visit_4_10_to_12_w_arm_1</td><td>missing</td><td>missing</td><td>missing</td></tr><tr><th>6</th><td>1</td><td>visit_7_16_to_18_w_arm_1</td><td>missing</td><td>missing</td><td>missing</td></tr><tr><th>7</th><td>1</td><td>visit_9_20_to_22_w_arm_1</td><td>missing</td><td>missing</td><td>missing</td></tr><tr><th>8</th><td>1</td><td>visit_10_22_to_24_arm_1</td><td>missing</td><td>missing</td><td>missing</td></tr><tr><th>9</th><td>1</td><td>visit_12_26_to_28_arm_1</td><td>missing</td><td>missing</td><td>missing</td></tr><tr><th>10</th><td>1</td><td>visit_14_30_to_32_arm_1</td><td>missing</td><td>missing</td><td>missing</td></tr><tr><th>11</th><td>1</td><td>visit_16_34_to_36_arm_1</td><td>missing</td><td>missing</td><td>missing</td></tr><tr><th>12</th><td>1</td><td>postpartum_arm_1</td><td>missing</td><td>missing</td><td>missing</td></tr><tr><th>13</th><td>1</td><td>retinopathy_arm_1</td><td>missing</td><td>missing</td><td>missing</td></tr><tr><th>14</th><td>2</td><td>baseline_informati_arm_1</td><td>missing</td><td>2015-08-27</td><td>Susanna </td></tr><tr><th>15</th><td>2</td><td>preconception_arm_1</td><td>missing</td><td>missing</td><td>missing</td></tr><tr><th>16</th><td>2</td><td>visit_1_4_to_6_wee_arm_1</td><td>missing</td><td>missing</td><td>missing</td></tr><tr><th>17</th><td>2</td><td>visit_2_6_to_8_wee_arm_1</td><td>missing</td><td>missing</td><td>missing</td></tr><tr><th>18</th><td>2</td><td>visit_3_8_to_10_we_arm_1</td><td>missing</td><td>missing</td><td>missing</td></tr><tr><th>19</th><td>2</td><td>visit_4_10_to_12_w_arm_1</td><td>missing</td><td>missing</td><td>missing</td></tr><tr><th>20</th><td>2</td><td>visit_5_12_to_14_w_arm_1</td><td>missing</td><td>missing</td><td>missing</td></tr><tr><th>21</th><td>2</td><td>visit_6_14_to_16_w_arm_1</td><td>missing</td><td>missing</td><td>missing</td></tr><tr><th>22</th><td>2</td><td>visit_7_16_to_18_w_arm_1</td><td>missing</td><td>missing</td><td>missing</td></tr><tr><th>23</th><td>2</td><td>visit_9_20_to_22_w_arm_1</td><td>missing</td><td>missing</td><td>missing</td></tr><tr><th>24</th><td>2</td><td>visit_10_22_to_24_arm_1</td><td>missing</td><td>missing</td><td>missing</td></tr><tr><th>25</th><td>2</td><td>visit_11_24_to_26_arm_1</td><td>missing</td><td>missing</td><td>missing</td></tr><tr><th>26</th><td>2</td><td>visit_13_28_to_30_arm_1</td><td>missing</td><td>missing</td><td>missing</td></tr><tr><th>27</th><td>2</td><td>postpartum_arm_1</td><td>missing</td><td>missing</td><td>missing</td></tr><tr><th>28</th><td>2</td><td>retinopathy_arm_1</td><td>missing</td><td>missing</td><td>missing</td></tr><tr><th>29</th><td>3</td><td>baseline_informati_arm_1</td><td>missing</td><td>2015-08-31</td><td>Amy </td></tr><tr><th>30</th><td>3</td><td>preconception_arm_1</td><td>missing</td><td>missing</td><td>missing</td></tr><tr><th>&vellip;</th><td>&vellip;</td><td>&vellip;</td><td>&vellip;</td><td>&vellip;</td><td>&vellip;</td></tr></tbody></table>"
      ],
      "text/latex": [
       "\\begin{tabular}{r|cccccc}\n",
       "\t& subject\\_id & redcap\\_event\\_name & redcap\\_survey\\_identifier & date\\_demo & first\\_name & \\\\\n",
       "\t\\hline\n",
       "\t& String & String & Missing & Dates…⍰ & String⍰ & \\\\\n",
       "\t\\hline\n",
       "\t1 & 1 & baseline\\_informati\\_arm\\_1 &  & 2015-09-03 & Tasnim & $\\dots$ \\\\\n",
       "\t2 & 1 & preconception\\_arm\\_1 &  &  &  & $\\dots$ \\\\\n",
       "\t3 & 1 & visit\\_1\\_4\\_to\\_6\\_wee\\_arm\\_1 &  &  &  & $\\dots$ \\\\\n",
       "\t4 & 1 & visit\\_3\\_8\\_to\\_10\\_we\\_arm\\_1 &  &  &  & $\\dots$ \\\\\n",
       "\t5 & 1 & visit\\_4\\_10\\_to\\_12\\_w\\_arm\\_1 &  &  &  & $\\dots$ \\\\\n",
       "\t6 & 1 & visit\\_7\\_16\\_to\\_18\\_w\\_arm\\_1 &  &  &  & $\\dots$ \\\\\n",
       "\t7 & 1 & visit\\_9\\_20\\_to\\_22\\_w\\_arm\\_1 &  &  &  & $\\dots$ \\\\\n",
       "\t8 & 1 & visit\\_10\\_22\\_to\\_24\\_arm\\_1 &  &  &  & $\\dots$ \\\\\n",
       "\t9 & 1 & visit\\_12\\_26\\_to\\_28\\_arm\\_1 &  &  &  & $\\dots$ \\\\\n",
       "\t10 & 1 & visit\\_14\\_30\\_to\\_32\\_arm\\_1 &  &  &  & $\\dots$ \\\\\n",
       "\t11 & 1 & visit\\_16\\_34\\_to\\_36\\_arm\\_1 &  &  &  & $\\dots$ \\\\\n",
       "\t12 & 1 & postpartum\\_arm\\_1 &  &  &  & $\\dots$ \\\\\n",
       "\t13 & 1 & retinopathy\\_arm\\_1 &  &  &  & $\\dots$ \\\\\n",
       "\t14 & 2 & baseline\\_informati\\_arm\\_1 &  & 2015-08-27 & Susanna  & $\\dots$ \\\\\n",
       "\t15 & 2 & preconception\\_arm\\_1 &  &  &  & $\\dots$ \\\\\n",
       "\t16 & 2 & visit\\_1\\_4\\_to\\_6\\_wee\\_arm\\_1 &  &  &  & $\\dots$ \\\\\n",
       "\t17 & 2 & visit\\_2\\_6\\_to\\_8\\_wee\\_arm\\_1 &  &  &  & $\\dots$ \\\\\n",
       "\t18 & 2 & visit\\_3\\_8\\_to\\_10\\_we\\_arm\\_1 &  &  &  & $\\dots$ \\\\\n",
       "\t19 & 2 & visit\\_4\\_10\\_to\\_12\\_w\\_arm\\_1 &  &  &  & $\\dots$ \\\\\n",
       "\t20 & 2 & visit\\_5\\_12\\_to\\_14\\_w\\_arm\\_1 &  &  &  & $\\dots$ \\\\\n",
       "\t21 & 2 & visit\\_6\\_14\\_to\\_16\\_w\\_arm\\_1 &  &  &  & $\\dots$ \\\\\n",
       "\t22 & 2 & visit\\_7\\_16\\_to\\_18\\_w\\_arm\\_1 &  &  &  & $\\dots$ \\\\\n",
       "\t23 & 2 & visit\\_9\\_20\\_to\\_22\\_w\\_arm\\_1 &  &  &  & $\\dots$ \\\\\n",
       "\t24 & 2 & visit\\_10\\_22\\_to\\_24\\_arm\\_1 &  &  &  & $\\dots$ \\\\\n",
       "\t25 & 2 & visit\\_11\\_24\\_to\\_26\\_arm\\_1 &  &  &  & $\\dots$ \\\\\n",
       "\t26 & 2 & visit\\_13\\_28\\_to\\_30\\_arm\\_1 &  &  &  & $\\dots$ \\\\\n",
       "\t27 & 2 & postpartum\\_arm\\_1 &  &  &  & $\\dots$ \\\\\n",
       "\t28 & 2 & retinopathy\\_arm\\_1 &  &  &  & $\\dots$ \\\\\n",
       "\t29 & 3 & baseline\\_informati\\_arm\\_1 &  & 2015-08-31 & Amy  & $\\dots$ \\\\\n",
       "\t30 & 3 & preconception\\_arm\\_1 &  &  &  & $\\dots$ \\\\\n",
       "\t$\\dots$ & $\\dots$ & $\\dots$ & $\\dots$ & $\\dots$ & $\\dots$ &  \\\\\n",
       "\\end{tabular}\n"
      ],
      "text/plain": [
       "426×540 DataFrames.DataFrame. Omitted printing of 537 columns\n",
       "│ Row │ subject_id │ redcap_event_name        │ redcap_survey_identifier │\n",
       "│     │ \u001b[90mString\u001b[39m     │ \u001b[90mString\u001b[39m                   │ \u001b[90mMissing\u001b[39m                  │\n",
       "├─────┼────────────┼──────────────────────────┼──────────────────────────┤\n",
       "│ 1   │ 1          │ baseline_informati_arm_1 │ \u001b[90mmissing\u001b[39m                  │\n",
       "│ 2   │ 1          │ preconception_arm_1      │ \u001b[90mmissing\u001b[39m                  │\n",
       "│ 3   │ 1          │ visit_1_4_to_6_wee_arm_1 │ \u001b[90mmissing\u001b[39m                  │\n",
       "│ 4   │ 1          │ visit_3_8_to_10_we_arm_1 │ \u001b[90mmissing\u001b[39m                  │\n",
       "│ 5   │ 1          │ visit_4_10_to_12_w_arm_1 │ \u001b[90mmissing\u001b[39m                  │\n",
       "│ 6   │ 1          │ visit_7_16_to_18_w_arm_1 │ \u001b[90mmissing\u001b[39m                  │\n",
       "│ 7   │ 1          │ visit_9_20_to_22_w_arm_1 │ \u001b[90mmissing\u001b[39m                  │\n",
       "│ 8   │ 1          │ visit_10_22_to_24_arm_1  │ \u001b[90mmissing\u001b[39m                  │\n",
       "│ 9   │ 1          │ visit_12_26_to_28_arm_1  │ \u001b[90mmissing\u001b[39m                  │\n",
       "│ 10  │ 1          │ visit_14_30_to_32_arm_1  │ \u001b[90mmissing\u001b[39m                  │\n",
       "⋮\n",
       "│ 416 │ 40         │ visit_1_4_to_6_wee_arm_1 │ \u001b[90mmissing\u001b[39m                  │\n",
       "│ 417 │ 40         │ visit_2_6_to_8_wee_arm_1 │ \u001b[90mmissing\u001b[39m                  │\n",
       "│ 418 │ 40         │ visit_4_10_to_12_w_arm_1 │ \u001b[90mmissing\u001b[39m                  │\n",
       "│ 419 │ 40         │ visit_6_14_to_16_w_arm_1 │ \u001b[90mmissing\u001b[39m                  │\n",
       "│ 420 │ 40         │ visit_8_18_to_20_w_arm_1 │ \u001b[90mmissing\u001b[39m                  │\n",
       "│ 421 │ 40         │ visit_10_22_to_24_arm_1  │ \u001b[90mmissing\u001b[39m                  │\n",
       "│ 422 │ 40         │ visit_12_26_to_28_arm_1  │ \u001b[90mmissing\u001b[39m                  │\n",
       "│ 423 │ 40         │ visit_13_28_to_30_arm_1  │ \u001b[90mmissing\u001b[39m                  │\n",
       "│ 424 │ 40         │ visit_15_32_to_34_arm_1  │ \u001b[90mmissing\u001b[39m                  │\n",
       "│ 425 │ 40         │ postpartum_arm_1         │ \u001b[90mmissing\u001b[39m                  │\n",
       "│ 426 │ 40         │ retinopathy_arm_1        │ \u001b[90mmissing\u001b[39m                  │"
      ]
     },
     "execution_count": 11,
     "metadata": {},
     "output_type": "execute_result"
    }
   ],
   "source": [
    "using IJulia\n",
    "using CSV\n",
    "df = CSV.read(\"/Volumes/som/PEDS/RI Biostatistics Core/Shared/Shared Projects/Laura/BDC/Projects/Sarit Polsky/Retinopathy/Data_Raw/PregnancyCGM_DATA_2019-08-12_1346.csv\")"
   ]
  },
  {
   "cell_type": "code",
   "execution_count": 12,
   "metadata": {},
   "outputs": [
    {
     "data": {
      "text/plain": [
       "426-element PooledArrays.PooledArray{String,UInt32,1,Array{UInt32,1}}:\n",
       " \"baseline_informati_arm_1\"\n",
       " \"preconception_arm_1\"     \n",
       " \"visit_1_4_to_6_wee_arm_1\"\n",
       " \"visit_3_8_to_10_we_arm_1\"\n",
       " \"visit_4_10_to_12_w_arm_1\"\n",
       " \"visit_7_16_to_18_w_arm_1\"\n",
       " \"visit_9_20_to_22_w_arm_1\"\n",
       " \"visit_10_22_to_24_arm_1\" \n",
       " \"visit_12_26_to_28_arm_1\" \n",
       " \"visit_14_30_to_32_arm_1\" \n",
       " \"visit_16_34_to_36_arm_1\" \n",
       " \"postpartum_arm_1\"        \n",
       " \"retinopathy_arm_1\"       \n",
       " ⋮                         \n",
       " \"preconception_arm_1\"     \n",
       " \"visit_1_4_to_6_wee_arm_1\"\n",
       " \"visit_2_6_to_8_wee_arm_1\"\n",
       " \"visit_4_10_to_12_w_arm_1\"\n",
       " \"visit_6_14_to_16_w_arm_1\"\n",
       " \"visit_8_18_to_20_w_arm_1\"\n",
       " \"visit_10_22_to_24_arm_1\" \n",
       " \"visit_12_26_to_28_arm_1\" \n",
       " \"visit_13_28_to_30_arm_1\" \n",
       " \"visit_15_32_to_34_arm_1\" \n",
       " \"postpartum_arm_1\"        \n",
       " \"retinopathy_arm_1\"       "
      ]
     },
     "execution_count": 12,
     "metadata": {},
     "output_type": "execute_result"
    }
   ],
   "source": [
    "df[:,2]"
   ]
  },
  {
   "cell_type": "code",
   "execution_count": null,
   "metadata": {},
   "outputs": [],
   "source": []
  }
 ],
 "metadata": {
  "kernelspec": {
   "display_name": "Julia 1.1.1",
   "language": "julia",
   "name": "julia-1.1"
  },
  "language_info": {
   "file_extension": ".jl",
   "mimetype": "application/julia",
   "name": "julia",
   "version": "1.1.1"
  }
 },
 "nbformat": 4,
 "nbformat_minor": 2
}

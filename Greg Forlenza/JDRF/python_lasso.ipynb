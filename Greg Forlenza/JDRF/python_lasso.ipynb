{
 "cells": [
  {
   "cell_type": "code",
   "execution_count": 1,
   "id": "a13141c4-6762-4b3a-8e64-65f9e93af9de",
   "metadata": {},
   "outputs": [],
   "source": [
    "import re\n",
    "import pandas as pd\n",
    "import numpy as np\n",
    "from patsy import dmatrices\n",
    "from sklearn import linear_model"
   ]
  },
  {
   "cell_type": "code",
   "execution_count": 2,
   "id": "abfb6aee-21e9-43be-9916-50c153972f24",
   "metadata": {},
   "outputs": [],
   "source": [
    "# Import\n",
    "df = pd.read_csv(\"~/Desktop/lasso.csv\")\n",
    "df.columns = [re.sub(\".factor\", \"\", c) for c in df.columns]\n",
    "# Convert some variables to factors\n",
    "cat_vars = ['demographics_sex','demographics_insurance','demographics_race','demographics_ethnicity',\n",
    "            'demographics_cgmhx','demographics_pumphx','success']\n",
    "df[cat_vars] = df[cat_vars].astype(\"category\")\n",
    "\n",
    "y, X = dmatrices('success ~ am_final+hba1c+m1_sensor_wear+m1_time_am+m1_tir+m1_boluses+demographics_t1d_duration+Age+demographics_sex + demographics_insurance+demographics_race+demographics_ethnicity+demographics_cgmhx+demographics_pumphx',data=df,return_type='dataframe')\n",
    "y = np.ravel(y[\"success[Success]\"])\n",
    "\n",
    "# Set up L1 (lasso) regression\n",
    "clf = linear_model.LogisticRegression(penalty='l1', solver='liblinear')\n",
    "mod = clf.fit(X,y)"
   ]
  },
  {
   "cell_type": "code",
   "execution_count": 3,
   "metadata": {},
   "outputs": [
    {
     "output_type": "stream",
     "name": "stdout",
     "text": [
      "am_final\nhba1c\nm1_sensor_wear\nm1_time_am\nm1_tir\ndemographics_t1d_duration\n"
     ]
    }
   ],
   "source": [
    "# Print the selected parameters\n",
    "for p in range(0,mod.coef_.shape[1]):\n",
    "    if mod.coef_[0,p] != 0:\n",
    "        print(X.columns[p])"
   ]
  }
 ],
 "metadata": {
  "kernelspec": {
   "name": "python394jvsc74a57bd0397704579725e15f5c7cb49fe5f0341eb7531c82d19f2c29d197e8b64ab5776b",
   "display_name": "Python 3.9.4 64-bit"
  },
  "language_info": {
   "codemirror_mode": {
    "name": "ipython",
    "version": 3
   },
   "file_extension": ".py",
   "mimetype": "text/x-python",
   "name": "python",
   "nbconvert_exporter": "python",
   "pygments_lexer": "ipython3",
   "version": "3.9.4"
  },
  "metadata": {
   "interpreter": {
    "hash": "397704579725e15f5c7cb49fe5f0341eb7531c82d19f2c29d197e8b64ab5776b"
   }
  }
 },
 "nbformat": 4,
 "nbformat_minor": 5
}
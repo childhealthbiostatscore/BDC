{
 "cells": [
  {
   "cell_type": "code",
   "execution_count": 2,
   "id": "3f42ca88-c250-4835-a528-dc451b6ca2dc",
   "metadata": {},
   "outputs": [],
   "source": [
    "import pandas as pd"
   ]
  },
  {
   "cell_type": "markdown",
   "id": "0526d2b4-6937-4de1-a2d9-98d83fd78bad",
   "metadata": {},
   "source": [
    "# Day and Night HbA1c"
   ]
  },
  {
   "cell_type": "code",
   "execution_count": 3,
   "id": "63e42819-c170-426e-ae91-129920c48100",
   "metadata": {},
   "outputs": [],
   "source": [
    "# Import data\n",
    "wd = '/Users/timvigers/Dropbox/Work/Viral Shah/Day and Night CGM/'\n",
    "# "
   ]
  },
  {
   "cell_type": "code",
   "execution_count": null,
   "id": "497744ee-8122-4b22-aa53-6d621633fbe7",
   "metadata": {},
   "outputs": [],
   "source": []
  }
 ],
 "metadata": {
  "kernelspec": {
   "display_name": "Python 3",
   "language": "python",
   "name": "python3"
  },
  "language_info": {
   "codemirror_mode": {
    "name": "ipython",
    "version": 3
   },
   "file_extension": ".py",
   "mimetype": "text/x-python",
   "name": "python",
   "nbconvert_exporter": "python",
   "pygments_lexer": "ipython3",
   "version": "3.9.5"
  }
 },
 "nbformat": 4,
 "nbformat_minor": 5
}

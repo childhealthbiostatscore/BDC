{
 "cells": [
  {
   "cell_type": "code",
   "execution_count": 1,
   "id": "3f42ca88-c250-4835-a528-dc451b6ca2dc",
   "metadata": {},
   "outputs": [],
   "source": [
    "import os\n",
    "import pathlib\n",
    "import pandas as pd\n",
    "import numpy as np\n",
    "import datetime\n",
    "from dateutil.parser import parse\n",
    "from sklearn import metrics"
   ]
  },
  {
   "cell_type": "markdown",
   "id": "0526d2b4-6937-4de1-a2d9-98d83fd78bad",
   "metadata": {},
   "source": [
    "# Day and Night HbA1c"
   ]
  },
  {
   "cell_type": "code",
   "execution_count": 139,
   "id": "63e42819-c170-426e-ae91-129920c48100",
   "metadata": {},
   "outputs": [],
   "source": [
    "# Import data\n",
    "wd = '/Users/timvigers/Dropbox/Work/Viral Shah/Day and Night CGM/'\n",
    "# Most recent HbA1c information\n",
    "a1cs = pd.read_csv(wd+'Data_Clean/a1cs.csv',parse_dates=['MostRecentVisitDate'])\n",
    "# Iterate through CGM files, match with row in a1cs df, calculate metrics\n",
    "# Dictionary for storing results\n",
    "df = {'id':[],'gender':[],'age': [],'insulin':[],'hba1c':[],\n",
    "     'day_auc':[],'day_tir':[],'night_auc':[],'night_tir':[]}"
   ]
  },
  {
   "cell_type": "code",
   "execution_count": null,
   "id": "021f38d8-81ba-4880-bcf8-56aa5f1ef7fd",
   "metadata": {},
   "outputs": [
    {
     "name": "stdout",
     "output_type": "stream",
     "text": [
      "Nessinger.12.9.2019_90days.xlsx\n"
     ]
    }
   ],
   "source": [
    "# Iterate through files in wd\n",
    "for file in os.listdir(wd+'Data_Clean/cgms/'):\n",
    "    print(file)\n",
    "    # File extension for reading in\n",
    "    ext = pathlib.Path(wd+'Data_Raw/Patient 90 days/'+file).suffix\n",
    "    if 'xls' in ext:\n",
    "        d = pd.read_excel(wd+'Data_Raw/Patient 90 days/'+file)\n",
    "    elif 'csv' in ext:\n",
    "        d = pd.read_csv(wd+'Data_Raw/Patient 90 days/'+file)\n",
    "    # Identify type of CGM file\n",
    "    if 'Patient Info' in d.columns:\n",
    "        # Pull A1c and dempgraphic data \n",
    "        n = d['Patient Info'].iloc[0].lower()+'_'+d['Patient Info'].iloc[1].lower()\n",
    "        mask = a1cs['ID'].isin([n])\n",
    "        r = a1cs.loc[mask]\n",
    "        # Get cgm data\n",
    "        time = d['Timestamp (YYYY-MM-DDThh:mm:ss)']\n",
    "        time = [parse(t.replace(\"T\",\" \")) if type(t) == str else t for t in time]\n",
    "        gluc = d['Glucose Value (mg/dL)']\n",
    "        cgm = pd.concat([pd.Series(time), gluc], axis=1)\n",
    "        cgm.columns = ['time','glucose']\n",
    "    else:\n",
    "        print(\"Wrong columns\")\n",
    "    # Get CGM data two weeks from HbA1c\n",
    "    end = r['MostRecentVisitDate'].iloc[0]\n",
    "    start = end - datetime.timedelta(days = 14)\n",
    "    cgm = cgm[(cgm['time'] >= start) & (cgm['time'] < end)]\n",
    "    cgm = cgm[(cgm['glucose'] != 'Low') & (cgm['glucose'] != 'High')]\n",
    "    cgm['glucose'] = pd.to_numeric(cgm['glucose'])\n",
    "    cgm.set_index('time',inplace=True,drop=False)\n",
    "    # Calculate CGM metrics\n",
    "    day = cgm.between_time(\"6:00\",\"23:00\",include_start=False,include_end=False)\n",
    "    night = cgm.between_time(\"23:00\",\"6:00\")\n",
    "    # Add dempgraphic information\n",
    "    df['id'].append(n)\n",
    "    df['gender'].append(r['Gender'].iloc[0])\n",
    "    df['age'].append(r['Age'].iloc[0])\n",
    "    df['insulin'].append(r['InsulinRegimen'].iloc[0])\n",
    "    df['hba1c'].append(r['MostRecentA1C'].iloc[0])\n",
    "    df['day_auc'].append(np.trapz(day['glucose'],pd.to_numeric(day['time'])))\n",
    "    df['day_tir'].append(len([g for g in day['glucose'] if g >=70 and g < 180])/day.shape[0]*100)\n",
    "    df['night_auc'].append(np.trapz(night['glucose'],pd.to_numeric(night['time'])))\n",
    "    df['night_tir'].append(len([g for g in night['glucose'] if g >=70 and g < 180])/night.shape[0]*100)"
   ]
  },
  {
   "cell_type": "code",
   "execution_count": null,
   "id": "d3916718-edba-4bbb-9412-957c7764e879",
   "metadata": {},
   "outputs": [],
   "source": []
  }
 ],
 "metadata": {
  "kernelspec": {
   "display_name": "Python 3",
   "language": "python",
   "name": "python3"
  },
  "language_info": {
   "codemirror_mode": {
    "name": "ipython",
    "version": 3
   },
   "file_extension": ".py",
   "mimetype": "text/x-python",
   "name": "python",
   "nbconvert_exporter": "python",
   "pygments_lexer": "ipython3",
   "version": "3.9.5"
  }
 },
 "nbformat": 4,
 "nbformat_minor": 5
}

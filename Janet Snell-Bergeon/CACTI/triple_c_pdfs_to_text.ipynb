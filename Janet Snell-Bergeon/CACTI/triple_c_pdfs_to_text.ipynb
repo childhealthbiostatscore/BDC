{
 "cells": [
  {
   "cell_type": "code",
   "execution_count": 1,
   "id": "47ee25cc-fece-47de-81d2-b71d7fda46cc",
   "metadata": {},
   "outputs": [],
   "source": [
    "import pytesseract\n",
    "from pdf2image import convert_from_path\n",
    "import re\n",
    "import os"
   ]
  },
  {
   "cell_type": "code",
   "execution_count": 2,
   "id": "8d2b6c9b-9093-424d-81da-3952651b46f0",
   "metadata": {},
   "outputs": [],
   "source": [
    "# Get all files recursively\n",
    "top_dir = \"/Users/timvigers/Desktop/G4 from Epic\"\n",
    "files_only = []\n",
    "for path, subdirs, files in os.walk(top_dir):\n",
    "    for name in files:\n",
    "        if \".pdf\" in name:\n",
    "            files_only.append(str(os.path.join(path, name)))"
   ]
  },
  {
   "cell_type": "code",
   "execution_count": null,
   "id": "1f6b9eb9-d6da-4949-bbb6-4b0e25dbe83d",
   "metadata": {},
   "outputs": [],
   "source": [
    "for file in files_only:\n",
    "    # List PDF pages\n",
    "    pages = convert_from_path(file)\n",
    "    # Text from page 1\n",
    "    text = str(pytesseract.image_to_string(pages[0]))\n",
    "    # Find average glucose\n",
    "    avg_glucose = re.search('Average Glucose(.+?)\\n', text)\n",
    "    avg_glucose = [int(n) for n in avg_glucose[0].split() if n.isdigit()]\n",
    "    # Find sensor use\n",
    "    sens_use = re.search('Sensor Usage(.+?)\\n', text)\n",
    "    sens_use = [int(n) for n in sens_use[0].split() if n.isdigit()]\n",
    "    # Find calibrations\n",
    "    calib = re.search('Calibrations / day(.+?)\\n', text)\n",
    "    calib = [int(n) for n in calib[0].split() if n.isdigit()]"
   ]
  },
  {
   "cell_type": "code",
   "execution_count": 13,
   "id": "42deebbf-2885-4439-8273-e19879e78215",
   "metadata": {},
   "outputs": [],
   "source": [
    "file = \"/Users/timvigers/Desktop/G4 from Epic/Craig_Jessica/Craig_4.3.14- 4.16.14.pdf\"\n",
    "pages = convert_from_path(file)\n",
    "# Text from page 1\n",
    "text = str(pytesseract.image_to_string(pages[0]))"
   ]
  },
  {
   "cell_type": "code",
   "execution_count": 19,
   "id": "b6d1d70b-bbd2-4acd-8bfc-98e0304726cd",
   "metadata": {},
   "outputs": [
    {
     "data": {
      "text/plain": [
       "['Standard', 'Deviation', '|', '+51', 'mg/dL']"
      ]
     },
     "execution_count": 19,
     "metadata": {},
     "output_type": "execute_result"
    }
   ],
   "source": [
    "# Find calibrations\n",
    "sd = re.search('\\nStandard Deviation \\| \\+(.+?) mg/dL\\n', text)\n",
    "#sd = [int(n) for n in sd[0].split() if n.isdigit()]\n",
    "sd[0].split()"
   ]
  },
  {
   "cell_type": "code",
   "execution_count": 58,
   "id": "fbe5da5c-ffdf-41bb-a87e-046885011cde",
   "metadata": {},
   "outputs": [
    {
     "data": {
      "text/plain": [
       "'Criag, Jessica [1632518]8/5/1988 12:00:00 AMGARcettiTrend Patterns & Insights (4/3/2014 - 4/16/2014) -< bDexcom\\n\\n \\n\\n2 Thu Apr 03 « SunAproé oo Mon Apr 07\\n\\ne Tue Apr Os\\n\\n6 Wed Apr 09\\n\\n \\n\\nmg/dl\\n\\n \\n\\n \\n\\n \\n\\n \\n\\nPattern Insights Summary\\n\\n \\n\\nNighttime Lows a\\n(0 Found) No significant patterns detected\\n\\n \\n\\nPa ean No significant patterns detected\\n\\n \\n\\nNighttime Highs a\\n(0 Found) No significant patterns detected\\n\\n \\n\\nPay Pound) ns No significant patterns detected\\n\\n \\n    \\n     \\n\\n   \\n   \\n  \\n\\n  \\n   \\n \\n\\n \\n\\n \\n\\n \\n\\n \\n  \\n\\n  \\n\\n_ Average Glucose | 136 mg/dL\\nSensor Usage 10 of 14 Days\\nCalibrations / day 17\\nStandard Deviation | +51 mg/dL\\n19 % High\\n77 % Target\\n\\n \\n \\n \\n \\n\\n   \\n  \\n\\nTarget Range\\nNighttime\\n\\n  \\n\\n70 - 180 mg/dL\\n10:00 PM - 6:00 AM\\n\\n \\n\\n \\n\\n \\n\\n4/16/2014 8:26:42 AM\\n\\nConfidential\\n\\n2/6\\n\\x0c'"
      ]
     },
     "execution_count": 58,
     "metadata": {},
     "output_type": "execute_result"
    }
   ],
   "source": [
    "text"
   ]
  }
 ],
 "metadata": {
  "kernelspec": {
   "display_name": "Python 3 (ipykernel)",
   "language": "python",
   "name": "python3"
  },
  "language_info": {
   "codemirror_mode": {
    "name": "ipython",
    "version": 3
   },
   "file_extension": ".py",
   "mimetype": "text/x-python",
   "name": "python",
   "nbconvert_exporter": "python",
   "pygments_lexer": "ipython3",
   "version": "3.9.6"
  }
 },
 "nbformat": 4,
 "nbformat_minor": 5
}

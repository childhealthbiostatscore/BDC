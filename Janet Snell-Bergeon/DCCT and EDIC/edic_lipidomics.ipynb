{
 "cells": [
  {
   "cell_type": "code",
   "execution_count": 1,
   "id": "0eeff053-57bd-4dfb-ad5b-eebbf28b1f9f",
   "metadata": {},
   "outputs": [],
   "source": [
    "# Modules\n",
    "import pandas as pd\n",
    "import numpy as np\n",
    "from AltAnalyze import ModeratedTest\n",
    "# Working directory\n",
    "wd = \"~/Dropbox/Work/Janet Snell-Bergeon/EDIC/Lipidomics/\""
   ]
  },
  {
   "cell_type": "code",
   "execution_count": 6,
   "id": "59c0b5f8-3f67-4f9c-aa91-e8ca1040a931",
   "metadata": {},
   "outputs": [],
   "source": [
    "# Import raw data\n",
    "intensities = pd.read_csv(wd+\"Data_Cleaned/lipidomics_data_matrix.csv\")\n",
    "samples = pd.read_csv(wd+\"Data_Cleaned/study_info.csv\")\n",
    "# Correct sample IDs\n",
    "samples['sample_id'] = ['EDIC-'+str(i).zfill(3) for i in samples['ProteomicsSampleID']]\n",
    "samples.index = samples['sample_id'].astype('str')\n",
    "# Transpose intensities, reindex (strip spaces from index otherwise merge won't work)\n",
    "intensities = intensities.transpose()\n",
    "intensities = intensities.rename(columns=intensities.iloc[0,:])\n",
    "intensities = intensities.drop('LipidSpecies')\n",
    "intensities = intensities.rename_axis('sample_id')\n",
    "intensities.index = intensities.index.str.strip()\n",
    "# Merge\n",
    "data = samples.merge(intensities,how='left',left_index=True,right_index=True)"
   ]
  },
  {
   "cell_type": "code",
   "execution_count": null,
   "id": "28409069-fe3f-4f05-8059-0f0a42978aa4",
   "metadata": {},
   "outputs": [],
   "source": []
  }
 ],
 "metadata": {
  "kernelspec": {
   "display_name": "Python 3",
   "language": "python",
   "name": "python3"
  },
  "language_info": {
   "codemirror_mode": {
    "name": "ipython",
    "version": 3
   },
   "file_extension": ".py",
   "mimetype": "text/x-python",
   "name": "python",
   "nbconvert_exporter": "python",
   "pygments_lexer": "ipython3",
   "version": "3.9.4"
  }
 },
 "nbformat": 4,
 "nbformat_minor": 5
}

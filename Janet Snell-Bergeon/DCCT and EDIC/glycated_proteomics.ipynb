{
 "cells": [
  {
   "cell_type": "code",
   "execution_count": 114,
   "id": "a763625d-9ccb-464a-ab52-ce31914ae3ae",
   "metadata": {},
   "outputs": [],
   "source": [
    "# Don't forget to source ~/.venvs/edic_proteomics/bin/activate !\n",
    "import numpy as np\n",
    "import pandas as pd\n",
    "import cimcb as cb\n",
    "import seaborn as sns\n",
    "from sklearn.model_selection import train_test_split\n",
    "wd = \"~/Dropbox/Work/Janet Snell-Bergeon/EDIC/Proteomics/Data_Clean/\""
   ]
  },
  {
   "cell_type": "code",
   "execution_count": 126,
   "id": "ebb8052e-042d-4765-be20-d902fdf1bf69",
   "metadata": {},
   "outputs": [],
   "source": [
    "# Import data\n",
    "id_list = pd.read_csv(wd+\"id_list.csv\")\n",
    "id_list = id_list.iloc[0:265,]\n",
    "samples = pd.read_csv(wd+\"study_info.csv\")\n",
    "protein_info = pd.read_csv(wd+\"proteins.csv\")\n",
    "protein_levels = pd.read_csv(wd+\"peptide_groups.csv\")\n",
    "protein_levels.set_index('Sequence',inplace=True)\n",
    "# Get sample IDs \n",
    "ids = ['Abundance_'+str(id) for id in id_list['Raw File Name']]\n",
    "# Get sample info\n",
    "samples = id_list.merge(samples[['Subject ID','CARV',\"HARD\"]],on='Subject ID',how='left')\n",
    "samples.set_index('Raw File Name',inplace=True)\n",
    "samples.drop_duplicates(inplace=True)\n",
    "# X and Y data - log transform X\n",
    "X = protein_levels[ids].transpose()\n",
    "X.index = [i.replace(\"Abundance_\",\"\") for i in X.index]\n",
    "Y = samples[\"CARV\"]"
   ]
  },
  {
   "cell_type": "code",
   "execution_count": 132,
   "id": "77b8a1e7-80b6-419f-b6ef-bc78f51ebfcf",
   "metadata": {},
   "outputs": [],
   "source": [
    "# Transform\n",
    "X = np.log(X)\n",
    "X = cb.utils.scale(X, method='auto')\n",
    "# Split into training and testing\n",
    "XTrain, XTest, YTrain, YTest = train_test_split(X,Y,test_size=1/3,stratify=Y,random_state=1017)"
   ]
  },
  {
   "cell_type": "code",
   "execution_count": 133,
   "id": "93c35b96-7110-44e4-b735-d038d51c8f41",
   "metadata": {},
   "outputs": [
    {
     "data": {
      "text/plain": [
       "(176, 654)"
      ]
     },
     "execution_count": 133,
     "metadata": {},
     "output_type": "execute_result"
    }
   ],
   "source": [
    "XTrain.shape"
   ]
  },
  {
   "cell_type": "code",
   "execution_count": null,
   "id": "b7e211ec-5823-4775-9a23-d278e6bc41cd",
   "metadata": {},
   "outputs": [],
   "source": []
  }
 ],
 "metadata": {
  "kernelspec": {
   "display_name": "Python 3",
   "language": "python",
   "name": "python3"
  },
  "language_info": {
   "codemirror_mode": {
    "name": "ipython",
    "version": 3
   },
   "file_extension": ".py",
   "mimetype": "text/x-python",
   "name": "python",
   "nbconvert_exporter": "python",
   "pygments_lexer": "ipython3",
   "version": "3.8.5"
  }
 },
 "nbformat": 4,
 "nbformat_minor": 5
}

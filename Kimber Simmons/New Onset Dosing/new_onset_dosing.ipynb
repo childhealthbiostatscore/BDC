{
 "cells": [
  {
   "cell_type": "code",
   "execution_count": 2,
   "id": "bdafb022-4c35-4bd6-a18e-e723580ffacc",
   "metadata": {},
   "outputs": [
    {
     "ename": "ModuleNotFoundError",
     "evalue": "No module named 'TableOne'",
     "output_type": "error",
     "traceback": [
      "\u001b[0;31m---------------------------------------------------------------------------\u001b[0m",
      "\u001b[0;31mModuleNotFoundError\u001b[0m                       Traceback (most recent call last)",
      "\u001b[0;32m<ipython-input-2-ba24e3c85b64>\u001b[0m in \u001b[0;36m<module>\u001b[0;34m\u001b[0m\n\u001b[1;32m      1\u001b[0m \u001b[0;32mimport\u001b[0m \u001b[0mpandas\u001b[0m \u001b[0;32mas\u001b[0m \u001b[0mpd\u001b[0m\u001b[0;34m\u001b[0m\u001b[0;34m\u001b[0m\u001b[0m\n\u001b[0;32m----> 2\u001b[0;31m \u001b[0;32mimport\u001b[0m \u001b[0mTableOne\u001b[0m\u001b[0;34m\u001b[0m\u001b[0;34m\u001b[0m\u001b[0m\n\u001b[0m",
      "\u001b[0;31mModuleNotFoundError\u001b[0m: No module named 'TableOne'"
     ]
    }
   ],
   "source": [
    "import pandas as pd\n",
    "from TableOne import TableOne"
   ]
  },
  {
   "cell_type": "markdown",
   "id": "35b30856-3db3-4cea-beec-2c88d46b5567",
   "metadata": {},
   "source": [
    "# New Onset Dosing in T1D"
   ]
  },
  {
   "cell_type": "code",
   "execution_count": null,
   "id": "358ba86e-47da-4651-a3ef-85f0e7da2912",
   "metadata": {},
   "outputs": [],
   "source": [
    "# Data import and cleaning\n",
    "wd = '/Volumes/PEDS/RI Biostatistics Core/Shared/Shared Projects/Laura/BDC/Projects/Kimber Simmons/New Onset Dosing/Data_Cleaned/'\n",
    "df = pd.read_csv(wd+'new_onset_doses.csv')\n",
    "df.set_index(['MRN'],inplace=True)\n",
    "df"
   ]
  },
  {
   "cell_type": "markdown",
   "id": "267e5cc2-ad0e-46bc-9df1-df7068b1c120",
   "metadata": {},
   "source": [
    "## Table 1: Participant Characteristics at Visit 1"
   ]
  },
  {
   "cell_type": "code",
   "execution_count": 2,
   "id": "192ca381-e5ef-4007-b86d-e6901e09d5ac",
   "metadata": {},
   "outputs": [
    {
     "ename": "NameError",
     "evalue": "name 'df' is not defined",
     "output_type": "error",
     "traceback": [
      "\u001b[0;31m---------------------------------------------------------------------------\u001b[0m",
      "\u001b[0;31mNameError\u001b[0m                                 Traceback (most recent call last)",
      "\u001b[0;32m<ipython-input-2-27800d17a4c0>\u001b[0m in \u001b[0;36m<module>\u001b[0;34m\u001b[0m\n\u001b[1;32m      1\u001b[0m \u001b[0;31m# Format columns\u001b[0m\u001b[0;34m\u001b[0m\u001b[0;34m\u001b[0m\u001b[0;34m\u001b[0m\u001b[0m\n\u001b[1;32m      2\u001b[0m \u001b[0;31m# Convert all ages to months\u001b[0m\u001b[0;34m\u001b[0m\u001b[0;34m\u001b[0m\u001b[0;34m\u001b[0m\u001b[0m\n\u001b[0;32m----> 3\u001b[0;31m \u001b[0mdf\u001b[0m\u001b[0;34m[\u001b[0m\u001b[0;34m'Age'\u001b[0m\u001b[0;34m]\u001b[0m \u001b[0;34m=\u001b[0m \u001b[0;34m[\u001b[0m\u001b[0mint\u001b[0m\u001b[0;34m(\u001b[0m\u001b[0ma\u001b[0m\u001b[0;34m.\u001b[0m\u001b[0msplit\u001b[0m\u001b[0;34m(\u001b[0m\u001b[0;34m)\u001b[0m\u001b[0;34m[\u001b[0m\u001b[0;36m0\u001b[0m\u001b[0;34m]\u001b[0m\u001b[0;34m)\u001b[0m\u001b[0;34m*\u001b[0m\u001b[0;36m12\u001b[0m \u001b[0;32mif\u001b[0m \u001b[0;34m'year'\u001b[0m \u001b[0;32min\u001b[0m \u001b[0ma\u001b[0m \u001b[0;32melse\u001b[0m \u001b[0mint\u001b[0m\u001b[0;34m(\u001b[0m\u001b[0ma\u001b[0m\u001b[0;34m.\u001b[0m\u001b[0msplit\u001b[0m\u001b[0;34m(\u001b[0m\u001b[0;34m)\u001b[0m\u001b[0;34m[\u001b[0m\u001b[0;36m0\u001b[0m\u001b[0;34m]\u001b[0m\u001b[0;34m)\u001b[0m \u001b[0;32mfor\u001b[0m \u001b[0ma\u001b[0m \u001b[0;32min\u001b[0m \u001b[0mdf\u001b[0m\u001b[0;34m[\u001b[0m\u001b[0;34m'Age'\u001b[0m\u001b[0;34m]\u001b[0m\u001b[0;34m]\u001b[0m\u001b[0;34m\u001b[0m\u001b[0;34m\u001b[0m\u001b[0m\n\u001b[0m\u001b[1;32m      4\u001b[0m \u001b[0;31m# Make table 1\u001b[0m\u001b[0;34m\u001b[0m\u001b[0;34m\u001b[0m\u001b[0;34m\u001b[0m\u001b[0m\n\u001b[1;32m      5\u001b[0m \u001b[0mcols\u001b[0m \u001b[0;34m=\u001b[0m \u001b[0;34m[\u001b[0m\u001b[0;34m'Age'\u001b[0m\u001b[0;34m]\u001b[0m\u001b[0;34m\u001b[0m\u001b[0;34m\u001b[0m\u001b[0m\n",
      "\u001b[0;31mNameError\u001b[0m: name 'df' is not defined"
     ]
    }
   ],
   "source": [
    "# Format columns\n",
    "# Convert all ages to months\n",
    "df['Age'] = [int(a.split()[0])*12 if 'year' in a else int(a.split()[0]) for a in df['Age']]\n",
    "# Make table 1\n",
    "cols = ['Age']\n",
    "\n",
    "# Print\n",
    "t1 = TableOne(df,columns=cols,groupby='Sex',pval=True,display_all=True,\n",
    "             normal_test=True,tukey_test=True,dip_test=True)\n",
    "t1"
   ]
  },
  {
   "cell_type": "code",
   "execution_count": 23,
   "id": "fd1c1252-7ea0-47d9-954f-2cfdd82b7f58",
   "metadata": {},
   "outputs": [
    {
     "data": {
      "text/plain": [
       "MRN\n",
       "2240959.0     2 year old\n",
       "1948268.0     3 year old\n",
       "1600154.0     6 year old\n",
       "1395523.0     8 year old\n",
       "2153166.0     4 year old\n",
       "                ...     \n",
       "1581860.0     7 year old\n",
       "1883313.0     3 year old\n",
       "2218098.0     9 year old\n",
       "1370356.0    13 year old\n",
       "986173.0     15 year old\n",
       "Name: Age, Length: 338, dtype: object"
      ]
     },
     "execution_count": 23,
     "metadata": {},
     "output_type": "execute_result"
    }
   ],
   "source": [
    "s = '2 year old'\n",
    "s.split()"
   ]
  },
  {
   "cell_type": "code",
   "execution_count": null,
   "id": "6f272268-8e30-4ad1-a0d1-f3d00e68f390",
   "metadata": {},
   "outputs": [],
   "source": []
  }
 ],
 "metadata": {
  "kernelspec": {
   "display_name": "Python 3",
   "language": "python",
   "name": "python3"
  },
  "language_info": {
   "codemirror_mode": {
    "name": "ipython",
    "version": 3
   },
   "file_extension": ".py",
   "mimetype": "text/x-python",
   "name": "python",
   "nbconvert_exporter": "python",
   "pygments_lexer": "ipython3",
   "version": "3.9.5"
  }
 },
 "nbformat": 4,
 "nbformat_minor": 5
}

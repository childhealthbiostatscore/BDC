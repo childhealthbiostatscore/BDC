{
 "cells": [
  {
   "cell_type": "code",
   "execution_count": 1,
   "id": "e5f4f8bf-8c45-414e-a98a-63df6367d8f3",
   "metadata": {},
   "outputs": [],
   "source": [
    "import pandas as pd\n",
    "import numpy as np\n",
    "import seaborn as sns\n",
    "import matplotlib.pyplot as plt\n",
    "import statsmodels.api as sm\n",
    "import statsmodels.formula.api as smf\n",
    "from scipy import stats\n",
    "from tableone import TableOne\n",
    "wd = '/Users/timvigers/Dropbox/Work/Kim Driscoll/BBGD/'"
   ]
  },
  {
   "cell_type": "code",
   "execution_count": 2,
   "id": "4def546c-b83c-489d-a98a-4fb0295c1acd",
   "metadata": {},
   "outputs": [],
   "source": [
    "# Read in data\n",
    "df = pd.read_csv(wd+'Data_Clean/bbgd_master.csv')"
   ]
  },
  {
   "cell_type": "markdown",
   "id": "f070a375-ac1f-44ea-8efa-6ef997cf21da",
   "metadata": {},
   "source": [
    "# Participant and Data Characteristics"
   ]
  },
  {
   "cell_type": "markdown",
   "id": "da45a708-f0fa-43bc-9a04-1fbb2ad1a4ba",
   "metadata": {},
   "source": [
    "## Table 1: Participant Characteristics at Visit 1"
   ]
  },
  {
   "cell_type": "code",
   "execution_count": 3,
   "id": "7239bbb6-f18d-45e4-a234-75a6bf2469ae",
   "metadata": {},
   "outputs": [
    {
     "data": {
      "text/html": [
       "<div>\n",
       "<style scoped>\n",
       "    .dataframe tbody tr th:only-of-type {\n",
       "        vertical-align: middle;\n",
       "    }\n",
       "\n",
       "    .dataframe tbody tr th {\n",
       "        vertical-align: top;\n",
       "    }\n",
       "\n",
       "    .dataframe thead tr th {\n",
       "        text-align: left;\n",
       "    }\n",
       "</style>\n",
       "<table border=\"1\" class=\"dataframe\">\n",
       "  <thead>\n",
       "    <tr>\n",
       "      <th></th>\n",
       "      <th></th>\n",
       "      <th colspan=\"5\" halign=\"left\">Grouped by treatment_group</th>\n",
       "    </tr>\n",
       "    <tr>\n",
       "      <th></th>\n",
       "      <th></th>\n",
       "      <th>Missing</th>\n",
       "      <th>Overall</th>\n",
       "      <th>0</th>\n",
       "      <th>1</th>\n",
       "      <th>P-Value</th>\n",
       "    </tr>\n",
       "  </thead>\n",
       "  <tbody>\n",
       "    <tr>\n",
       "      <th>n</th>\n",
       "      <th></th>\n",
       "      <td></td>\n",
       "      <td>43</td>\n",
       "      <td>22</td>\n",
       "      <td>21</td>\n",
       "      <td></td>\n",
       "    </tr>\n",
       "    <tr>\n",
       "      <th>Parent Maintain High BG of HFS, mean (SD)</th>\n",
       "      <th></th>\n",
       "      <td>1</td>\n",
       "      <td>6.5 (2.8)</td>\n",
       "      <td>6.0 (3.0)</td>\n",
       "      <td>7.0 (2.6)</td>\n",
       "      <td>0.303</td>\n",
       "    </tr>\n",
       "    <tr>\n",
       "      <th>Parent Worry/Helplessness Subscale of HFS, mean (SD)</th>\n",
       "      <th></th>\n",
       "      <td>0</td>\n",
       "      <td>22.2 (6.4)</td>\n",
       "      <td>20.1 (5.9)</td>\n",
       "      <td>24.3 (6.2)</td>\n",
       "      <td>0.027</td>\n",
       "    </tr>\n",
       "    <tr>\n",
       "      <th>Parent Social Consequences Subscale of HFS, mean (SD)</th>\n",
       "      <th></th>\n",
       "      <td>1</td>\n",
       "      <td>4.9 (3.2)</td>\n",
       "      <td>4.1 (2.6)</td>\n",
       "      <td>5.7 (3.6)</td>\n",
       "      <td>0.115</td>\n",
       "    </tr>\n",
       "    <tr>\n",
       "      <th>Parent GAD-7 Score, mean (SD)</th>\n",
       "      <th></th>\n",
       "      <td>0</td>\n",
       "      <td>13.5 (4.9)</td>\n",
       "      <td>12.3 (3.9)</td>\n",
       "      <td>14.7 (5.6)</td>\n",
       "      <td>0.116</td>\n",
       "    </tr>\n",
       "    <tr>\n",
       "      <th rowspan=\"2\" valign=\"top\">Private Insurance, n (%)</th>\n",
       "      <th>No</th>\n",
       "      <td>0</td>\n",
       "      <td>11 (25.6)</td>\n",
       "      <td>5 (22.7)</td>\n",
       "      <td>6 (28.6)</td>\n",
       "      <td>0.929</td>\n",
       "    </tr>\n",
       "    <tr>\n",
       "      <th>Yes</th>\n",
       "      <td></td>\n",
       "      <td>32 (74.4)</td>\n",
       "      <td>17 (77.3)</td>\n",
       "      <td>15 (71.4)</td>\n",
       "      <td></td>\n",
       "    </tr>\n",
       "    <tr>\n",
       "      <th rowspan=\"10\" valign=\"top\">Total Household Income, n (%)</th>\n",
       "      <th>$100K +</th>\n",
       "      <td>2</td>\n",
       "      <td>18 (43.9)</td>\n",
       "      <td>9 (40.9)</td>\n",
       "      <td>9 (47.4)</td>\n",
       "      <td>0.902</td>\n",
       "    </tr>\n",
       "    <tr>\n",
       "      <th>$20K-29,999</th>\n",
       "      <td></td>\n",
       "      <td>3 (7.3)</td>\n",
       "      <td>2 (9.1)</td>\n",
       "      <td>1 (5.3)</td>\n",
       "      <td></td>\n",
       "    </tr>\n",
       "    <tr>\n",
       "      <th>$30K-39,999</th>\n",
       "      <td></td>\n",
       "      <td>3 (7.3)</td>\n",
       "      <td>2 (9.1)</td>\n",
       "      <td>1 (5.3)</td>\n",
       "      <td></td>\n",
       "    </tr>\n",
       "    <tr>\n",
       "      <th>$40K-49,999</th>\n",
       "      <td></td>\n",
       "      <td>2 (4.9)</td>\n",
       "      <td>2 (9.1)</td>\n",
       "      <td></td>\n",
       "      <td></td>\n",
       "    </tr>\n",
       "    <tr>\n",
       "      <th>$50K-59,999</th>\n",
       "      <td></td>\n",
       "      <td>3 (7.3)</td>\n",
       "      <td>1 (4.5)</td>\n",
       "      <td>2 (10.5)</td>\n",
       "      <td></td>\n",
       "    </tr>\n",
       "    <tr>\n",
       "      <th>$60K-69,999</th>\n",
       "      <td></td>\n",
       "      <td>2 (4.9)</td>\n",
       "      <td>1 (4.5)</td>\n",
       "      <td>1 (5.3)</td>\n",
       "      <td></td>\n",
       "    </tr>\n",
       "    <tr>\n",
       "      <th>$70K-79,999</th>\n",
       "      <td></td>\n",
       "      <td>4 (9.8)</td>\n",
       "      <td>2 (9.1)</td>\n",
       "      <td>2 (10.5)</td>\n",
       "      <td></td>\n",
       "    </tr>\n",
       "    <tr>\n",
       "      <th>$80K-89,999</th>\n",
       "      <td></td>\n",
       "      <td>2 (4.9)</td>\n",
       "      <td>1 (4.5)</td>\n",
       "      <td>1 (5.3)</td>\n",
       "      <td></td>\n",
       "    </tr>\n",
       "    <tr>\n",
       "      <th>$90K-99,999</th>\n",
       "      <td></td>\n",
       "      <td>3 (7.3)</td>\n",
       "      <td>2 (9.1)</td>\n",
       "      <td>1 (5.3)</td>\n",
       "      <td></td>\n",
       "    </tr>\n",
       "    <tr>\n",
       "      <th>Under $5K</th>\n",
       "      <td></td>\n",
       "      <td>1 (2.4)</td>\n",
       "      <td></td>\n",
       "      <td>1 (5.3)</td>\n",
       "      <td></td>\n",
       "    </tr>\n",
       "    <tr>\n",
       "      <th rowspan=\"4\" valign=\"top\">Parent's Marital Status, n (%)</th>\n",
       "      <th>Divorced</th>\n",
       "      <td>1</td>\n",
       "      <td>8 (19.0)</td>\n",
       "      <td>3 (14.3)</td>\n",
       "      <td>5 (23.8)</td>\n",
       "      <td>0.201</td>\n",
       "    </tr>\n",
       "    <tr>\n",
       "      <th>Living with Domestic Partner</th>\n",
       "      <td></td>\n",
       "      <td>2 (4.8)</td>\n",
       "      <td></td>\n",
       "      <td>2 (9.5)</td>\n",
       "      <td></td>\n",
       "    </tr>\n",
       "    <tr>\n",
       "      <th>Married to Child's Biologic Father</th>\n",
       "      <td></td>\n",
       "      <td>30 (71.4)</td>\n",
       "      <td>16 (76.2)</td>\n",
       "      <td>14 (66.7)</td>\n",
       "      <td></td>\n",
       "    </tr>\n",
       "    <tr>\n",
       "      <th>Widowed</th>\n",
       "      <td></td>\n",
       "      <td>2 (4.8)</td>\n",
       "      <td>2 (9.5)</td>\n",
       "      <td></td>\n",
       "      <td></td>\n",
       "    </tr>\n",
       "    <tr>\n",
       "      <th rowspan=\"5\" valign=\"top\">Highest Degree Parent Completed, n (%)</th>\n",
       "      <th>Associate's</th>\n",
       "      <td>0</td>\n",
       "      <td>6 (14.0)</td>\n",
       "      <td></td>\n",
       "      <td>6 (28.6)</td>\n",
       "      <td>0.090</td>\n",
       "    </tr>\n",
       "    <tr>\n",
       "      <th>Bachelor's</th>\n",
       "      <td></td>\n",
       "      <td>17 (39.5)</td>\n",
       "      <td>9 (40.9)</td>\n",
       "      <td>8 (38.1)</td>\n",
       "      <td></td>\n",
       "    </tr>\n",
       "    <tr>\n",
       "      <th>Doctoral</th>\n",
       "      <td></td>\n",
       "      <td>2 (4.7)</td>\n",
       "      <td>1 (4.5)</td>\n",
       "      <td>1 (4.8)</td>\n",
       "      <td></td>\n",
       "    </tr>\n",
       "    <tr>\n",
       "      <th>High School</th>\n",
       "      <td></td>\n",
       "      <td>12 (27.9)</td>\n",
       "      <td>8 (36.4)</td>\n",
       "      <td>4 (19.0)</td>\n",
       "      <td></td>\n",
       "    </tr>\n",
       "    <tr>\n",
       "      <th>Master's</th>\n",
       "      <td></td>\n",
       "      <td>6 (14.0)</td>\n",
       "      <td>4 (18.2)</td>\n",
       "      <td>2 (9.5)</td>\n",
       "      <td></td>\n",
       "    </tr>\n",
       "    <tr>\n",
       "      <th rowspan=\"2\" valign=\"top\">Parent Race, n (%)</th>\n",
       "      <th>Native Hawaiian or Pacific Islander</th>\n",
       "      <td>0</td>\n",
       "      <td>1 (2.3)</td>\n",
       "      <td></td>\n",
       "      <td>1 (4.8)</td>\n",
       "      <td>0.488</td>\n",
       "    </tr>\n",
       "    <tr>\n",
       "      <th>White</th>\n",
       "      <td></td>\n",
       "      <td>42 (97.7)</td>\n",
       "      <td>22 (100.0)</td>\n",
       "      <td>20 (95.2)</td>\n",
       "      <td></td>\n",
       "    </tr>\n",
       "    <tr>\n",
       "      <th rowspan=\"2\" valign=\"top\">Parent Ethnicity, n (%)</th>\n",
       "      <th>Hispanic or Latino</th>\n",
       "      <td>0</td>\n",
       "      <td>3 (7.0)</td>\n",
       "      <td>1 (4.5)</td>\n",
       "      <td>2 (9.5)</td>\n",
       "      <td>0.607</td>\n",
       "    </tr>\n",
       "    <tr>\n",
       "      <th>Not Hispanic or Latino</th>\n",
       "      <td></td>\n",
       "      <td>40 (93.0)</td>\n",
       "      <td>21 (95.5)</td>\n",
       "      <td>19 (90.5)</td>\n",
       "      <td></td>\n",
       "    </tr>\n",
       "    <tr>\n",
       "      <th rowspan=\"2\" valign=\"top\">Primary Male Caretaker, n (%)</th>\n",
       "      <th>Mother's boyfriend/partner</th>\n",
       "      <td>0</td>\n",
       "      <td>42 (97.7)</td>\n",
       "      <td>22 (100.0)</td>\n",
       "      <td>20 (95.2)</td>\n",
       "      <td>0.488</td>\n",
       "    </tr>\n",
       "    <tr>\n",
       "      <th>Uncle</th>\n",
       "      <td></td>\n",
       "      <td>1 (2.3)</td>\n",
       "      <td></td>\n",
       "      <td>1 (4.8)</td>\n",
       "      <td></td>\n",
       "    </tr>\n",
       "  </tbody>\n",
       "</table>\n",
       "</div><br />[1] Chi-squared tests for the following variables may be invalid due to the low number of observations: Parent's Marital Status, Highest Degree Parent Completed, Total Household Income.<br />"
      ],
      "text/plain": [
       "                                                                                          Grouped by treatment_group                                            \n",
       "                                                                                                             Missing     Overall           0           1 P-Value\n",
       "n                                                                                                                             43          22          21        \n",
       "Parent Maintain High BG of HFS, mean (SD)                                                                          1   6.5 (2.8)   6.0 (3.0)   7.0 (2.6)   0.303\n",
       "Parent Worry/Helplessness Subscale of HFS, mean (SD)                                                               0  22.2 (6.4)  20.1 (5.9)  24.3 (6.2)   0.027\n",
       "Parent Social Consequences Subscale of HFS, mean (SD)                                                              1   4.9 (3.2)   4.1 (2.6)   5.7 (3.6)   0.115\n",
       "Parent GAD-7 Score, mean (SD)                                                                                      0  13.5 (4.9)  12.3 (3.9)  14.7 (5.6)   0.116\n",
       "Private Insurance, n (%)                              No                                                           0   11 (25.6)    5 (22.7)    6 (28.6)   0.929\n",
       "                                                      Yes                                                              32 (74.4)   17 (77.3)   15 (71.4)        \n",
       "Total Household Income, n (%)                         $100K +                                                      2   18 (43.9)    9 (40.9)    9 (47.4)   0.902\n",
       "                                                      $20K-29,999                                                        3 (7.3)     2 (9.1)     1 (5.3)        \n",
       "                                                      $30K-39,999                                                        3 (7.3)     2 (9.1)     1 (5.3)        \n",
       "                                                      $40K-49,999                                                        2 (4.9)     2 (9.1)                    \n",
       "                                                      $50K-59,999                                                        3 (7.3)     1 (4.5)    2 (10.5)        \n",
       "                                                      $60K-69,999                                                        2 (4.9)     1 (4.5)     1 (5.3)        \n",
       "                                                      $70K-79,999                                                        4 (9.8)     2 (9.1)    2 (10.5)        \n",
       "                                                      $80K-89,999                                                        2 (4.9)     1 (4.5)     1 (5.3)        \n",
       "                                                      $90K-99,999                                                        3 (7.3)     2 (9.1)     1 (5.3)        \n",
       "                                                      Under $5K                                                          1 (2.4)                 1 (5.3)        \n",
       "Parent's Marital Status, n (%)                        Divorced                                                     1    8 (19.0)    3 (14.3)    5 (23.8)   0.201\n",
       "                                                      Living with Domestic Partner                                       2 (4.8)                 2 (9.5)        \n",
       "                                                      Married to Child's Biologic Father                               30 (71.4)   16 (76.2)   14 (66.7)        \n",
       "                                                      Widowed                                                            2 (4.8)     2 (9.5)                    \n",
       "Highest Degree Parent Completed, n (%)                Associate's                                                  0    6 (14.0)                6 (28.6)   0.090\n",
       "                                                      Bachelor's                                                       17 (39.5)    9 (40.9)    8 (38.1)        \n",
       "                                                      Doctoral                                                           2 (4.7)     1 (4.5)     1 (4.8)        \n",
       "                                                      High School                                                      12 (27.9)    8 (36.4)    4 (19.0)        \n",
       "                                                      Master's                                                          6 (14.0)    4 (18.2)     2 (9.5)        \n",
       "Parent Race, n (%)                                    Native Hawaiian or Pacific Islander                          0     1 (2.3)                 1 (4.8)   0.488\n",
       "                                                      White                                                            42 (97.7)  22 (100.0)   20 (95.2)        \n",
       "Parent Ethnicity, n (%)                               Hispanic or Latino                                           0     3 (7.0)     1 (4.5)     2 (9.5)   0.607\n",
       "                                                      Not Hispanic or Latino                                           40 (93.0)   21 (95.5)   19 (90.5)        \n",
       "Primary Male Caretaker, n (%)                         Mother's boyfriend/partner                                   0   42 (97.7)  22 (100.0)   20 (95.2)   0.488\n",
       "                                                      Uncle                                                              1 (2.3)                 1 (4.8)        \n",
       "[1] Chi-squared tests for the following variables may be invalid due to the low number of observations: Parent's Marital Status, Highest Degree Parent Completed, Total Household Income."
      ]
     },
     "execution_count": 3,
     "metadata": {},
     "output_type": "execute_result"
    }
   ],
   "source": [
    "# Make pretty variables for Table 1\n",
    "df[\"Private Insurance\"] = ['Yes' if i == 1 else 'No' if i==0 else np.nan for i in df['p_insurance_commercial']]\n",
    "df[\"Total Household Income\"] = df[\"par_income\"].replace({1:\"Under $5K\",2:\"$5K-$9,999\",3:\"$10K-$19,999\",4:\"$20K-29,999\", \n",
    "                                                   5:\"$30K-39,999\",6:\"$40K-49,999\",7:\"$50K-59,999\",8:\"$60K-69,999\",\n",
    "                                                   9:\"$70K-79,999\",10:\"$80K-89,999\",11:\"$90K-99,999\",12:\"$100K +\"})\n",
    "df[\"Parent's Marital Status\"] = df[\"par_marital\"].replace({1:\"Married to Child's Biologic Father\",2:\"Married to Child's Stepfather\", \n",
    "                                                  3:\"Separated\",4:\"Divorced\",5:\"Widowed\",6:\"Single\",7:\"Living with Domestic Partner\"})\n",
    "df[\"Highest Degree Parent Completed\"] = df[\"par_degree\"].replace({1:\"No Degree\",2:\"High School\",3:\"Associate's\",4:\"Bachelor's\",\n",
    "                                                                  5:\"Master's\",6:\"Doctoral\"})\n",
    "df[\"Parent Ethnicity\"] = df[\"par_ethnicity\"].replace({1:\"Hispanic or Latino\",2:\"Not Hispanic or Latino\"})\n",
    "df[\"Parent Race\"] = df[\"par_race\"].replace({1:\"American Indian or Alaskan Native\",2:\"Asian\",3:\"Black or African American\",\n",
    "                                            4:\"Native Hawaiian or Pacific Islander\",5:\"White\"})\n",
    "df[\"Primary Male Caretaker\"] = df[\"par_race\"].replace({1:\"Father\",2:\"Stepfather\",3:\"Grandfather\",4:\"Uncle\",5:\"Mother's boyfriend/partner\",6:\"Other\"})\n",
    "# Main outcomes\n",
    "df[\"Parent Maintain High BG of HFS\"] = df[\"p_maintain_high\"]\n",
    "df[\"Parent Worry/Helplessness Subscale of HFS\"] = df[\"p_helpless\"]\n",
    "df[\"Parent Social Consequences Subscale of HFS\"] = df[\"p_social\"]\n",
    "df[\"Parent GAD-7 Score\"] = df[\"p_gad_total\"]\n",
    "# Make table 1\n",
    "cols = [\"Parent Maintain High BG of HFS\",\"Parent Worry/Helplessness Subscale of HFS\",\n",
    "        \"Parent Social Consequences Subscale of HFS\",\"Parent GAD-7 Score\",\n",
    "        \"Private Insurance\",\"Total Household Income\",\"Parent's Marital Status\",\n",
    "       \"Highest Degree Parent Completed\",\"Parent Race\",\"Parent Ethnicity\",\"Primary Male Caretaker\"]\n",
    "\n",
    "# Print\n",
    "t1 = TableOne(df.query(\"studyvisit == 1\"),columns=cols,groupby='treatment_group',pval=True,display_all=True,\n",
    "             normal_test=True,tukey_test=True,dip_test=True)\n",
    "t1"
   ]
  },
  {
   "cell_type": "markdown",
   "id": "7c2a5de8-806b-42ea-b8c3-b13ef65a2779",
   "metadata": {},
   "source": [
    "Highest Degree Parent Completed, Total Household Income, and Parent's Marital Status were not significant by Fisher's exact test either (p = 0.063, 0.969, and 0.297 respectively)."
   ]
  },
  {
   "cell_type": "markdown",
   "id": "291e2d16-2d5c-4f9a-b00c-6e4d5d387567",
   "metadata": {},
   "source": [
    "## Outcome Plots"
   ]
  },
  {
   "cell_type": "markdown",
   "id": "dcd32a7f-9583-4d3c-993a-59489bc65549",
   "metadata": {},
   "source": [
    "Two of the four outcomes were reasonably normally distributed, but 'p_social' and 'p_gad_total' were skewed and unable to be log-transformed due to many 0 values."
   ]
  },
  {
   "cell_type": "code",
   "execution_count": 4,
   "id": "cd3baf75-33cf-4ece-94bc-28070b50097d",
   "metadata": {},
   "outputs": [
    {
     "data": {
      "image/png": "[encoded data removed]",
      "text/plain": [
       "<Figure size 432x288 with 4 Axes>"
      ]
     },
     "metadata": {
      "needs_background": "light"
     },
     "output_type": "display_data"
    }
   ],
   "source": [
    "# Define main outcomes\n",
    "var_list = [\"p_maintain_high\",\"p_helpless\",\"p_social\",\"p_gad_total\"]\n",
    "df[var_list].hist();# Semicolon hides the matplotlib descriptions in Jupyter"
   ]
  },
  {
   "cell_type": "markdown",
   "id": "11f42aa1-4dda-4063-8441-9689679b9b67",
   "metadata": {},
   "source": [
    "# Model Results\n",
    "All four outcomes were modeled using "
   ]
  },
  {
   "cell_type": "code",
   "execution_count": 5,
   "id": "1fae1d08-e50b-4a6c-ae0a-07226faf2c11",
   "metadata": {},
   "outputs": [],
   "source": [
    "# Define adjustment variables\n",
    "adj_list = [\"c_gender\",\"par_income\"]\n",
    "# Fill down \n",
    "df[adj_list] = df.groupby('participant_id')[adj_list].ffill()\n",
    "# Cut income into three levels\n",
    "df['par_income'] = pd.cut(df['par_income'],[0,4,8,12])\n",
    "# Make categorical\n",
    "df[adj_list] = df[adj_list].astype('category')"
   ]
  },
  {
   "cell_type": "code",
   "execution_count": 6,
   "id": "b8ee7bee-aa52-4788-9ced-969133ce315a",
   "metadata": {},
   "outputs": [
    {
     "name": "stdout",
     "output_type": "stream",
     "text": [
      "                         Mixed Linear Model Regression Results\n",
      "========================================================================================\n",
      "Model:                     MixedLM          Dependent Variable:          p_maintain_high\n",
      "No. Observations:          285              Method:                      REML           \n",
      "No. Groups:                41               Scale:                       2.9586         \n",
      "Min. group size:           1                Log-Likelihood:              -602.7708      \n",
      "Max. group size:           8                Converged:                   Yes            \n",
      "Mean group size:           7.0                                                          \n",
      "----------------------------------------------------------------------------------------\n",
      "                                              Coef.  Std.Err.   z    P>|z| [0.025 0.975]\n",
      "----------------------------------------------------------------------------------------\n",
      "Intercept                                      4.708    1.129  4.172 0.000  2.496  6.920\n",
      "c_gender[T.2.0]                                1.526    0.666  2.293 0.022  0.222  2.831\n",
      "par_income[T.Interval(4, 8, closed='right')]  -0.241    1.269 -0.190 0.849 -2.729  2.247\n",
      "par_income[T.Interval(8, 12, closed='right')]  1.836    1.119  1.641 0.101 -0.357  4.028\n",
      "studyvisit                                    -0.154    0.060 -2.582 0.010 -0.272 -0.037\n",
      "treatment_group                                0.592    0.754  0.786 0.432 -0.885  2.070\n",
      "studyvisit:treatment_group                    -0.274    0.089 -3.073 0.002 -0.449 -0.099\n",
      "Group Var                                      3.765    0.616                           \n",
      "========================================================================================\n",
      "\n"
     ]
    }
   ],
   "source": [
    "# Fit a random intercept for each participant, adjusted for sex, income, and T1D durationdf[['id'] + cols] = df.groupby('id')[cols].ffill().fillna(0).astype(int)\n",
    "ri_mod = smf.mixedlm(\"p_maintain_high ~ studyvisit*treatment_group+c_gender+par_income\", df, groups=df[\"participant_id\"],missing = \"drop\")\n",
    "mdf = ri_mod.fit()\n",
    "print(mdf.summary())"
   ]
  },
  {
   "cell_type": "code",
   "execution_count": 7,
   "id": "8aa36764-e757-4f16-b808-e8f1d19d7ea7",
   "metadata": {},
   "outputs": [
    {
     "data": {
      "image/png": "[encoded data removed]",
      "text/plain": [
       "<Figure size 432x288 with 1 Axes>"
      ]
     },
     "metadata": {
      "needs_background": "light"
     },
     "output_type": "display_data"
    }
   ],
   "source": [
    "# Distribution\n",
    "sns.kdeplot(mdf.resid, fill = True).set_title(\"KDE Plot of Model Residuals\");"
   ]
  },
  {
   "cell_type": "code",
   "execution_count": 26,
   "id": "e37f39a0-10f7-4d1a-8e34-c9338ccc183b",
   "metadata": {},
   "outputs": [
    {
     "data": {
      "image/png": "[encoded data removed]",
      "text/plain": [
       "<Figure size 432x288 with 1 Axes>"
      ]
     },
     "metadata": {
      "needs_background": "light"
     },
     "output_type": "display_data"
    }
   ],
   "source": [
    "# import warnings;\n",
    "# warnings.filterwarnings('ignore');\n",
    "# QQ Plot\n",
    "fig = sm.qqplot(mdf.resid,line = \"s\")\n",
    "plt.show()"
   ]
  },
  {
   "cell_type": "code",
   "execution_count": 27,
   "id": "989b6234-e503-480b-9973-4e0847091760",
   "metadata": {},
   "outputs": [
    {
     "name": "stdout",
     "output_type": "stream",
     "text": [
      "Statistic 0.995\n",
      "p-value 0.495\n"
     ]
    }
   ],
   "source": [
    "labels = [\"Statistic\", \"p-value\"]\n",
    "norm_res = stats.shapiro(mdf.resid)\n",
    "for key, val in dict(zip(labels, norm_res)).items():\n",
    "    print(key, round(val,3))"
   ]
  },
  {
   "cell_type": "markdown",
   "id": "402fbe02-200e-411f-86e8-ffb959b468f1",
   "metadata": {},
   "source": [
    "### Questions\n",
    "1. Where would I find study visit date to calculate age?\n",
    "2. I'm currently adjusting for child's gender, but would it make more sense to adjust for the gender of the survey taker? Where is this information?\n",
    "3. Is there anything else we should adjust for?"
   ]
  },
  {
   "cell_type": "code",
   "execution_count": 18,
   "id": "f6c0a053-597c-40b0-aaf5-9092f5815cc7",
   "metadata": {},
   "outputs": [
    {
     "ename": "TypeError",
     "evalue": "type ShapiroResult doesn't define __round__ method",
     "output_type": "error",
     "traceback": [
      "\u001b[0;31m---------------------------------------------------------------------------\u001b[0m",
      "\u001b[0;31mTypeError\u001b[0m                                 Traceback (most recent call last)",
      "\u001b[0;32m<ipython-input-18-0ac1308f3f80>\u001b[0m in \u001b[0;36m<module>\u001b[0;34m\u001b[0m\n\u001b[0;32m----> 1\u001b[0;31m \u001b[0mround\u001b[0m\u001b[0;34m(\u001b[0m\u001b[0mnorm_res\u001b[0m\u001b[0;34m)\u001b[0m\u001b[0;34m\u001b[0m\u001b[0;34m\u001b[0m\u001b[0m\n\u001b[0m",
      "\u001b[0;31mTypeError\u001b[0m: type ShapiroResult doesn't define __round__ method"
     ]
    }
   ],
   "source": [
    "round(norm_res)"
   ]
  },
  {
   "cell_type": "code",
   "execution_count": null,
   "id": "48d6e378-ac71-4fda-b2ec-f60209ee1a57",
   "metadata": {},
   "outputs": [],
   "source": []
  }
 ],
 "metadata": {
  "kernelspec": {
   "display_name": "Python 3",
   "language": "python",
   "name": "python3"
  },
  "language_info": {
   "codemirror_mode": {
    "name": "ipython",
    "version": 3
   },
   "file_extension": ".py",
   "mimetype": "text/x-python",
   "name": "python",
   "nbconvert_exporter": "python",
   "pygments_lexer": "ipython3",
   "version": "3.9.5"
  }
 },
 "nbformat": 4,
 "nbformat_minor": 5
}

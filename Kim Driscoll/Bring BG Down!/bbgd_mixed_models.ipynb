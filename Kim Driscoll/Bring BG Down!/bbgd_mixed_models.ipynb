{
 "cells": [
  {
   "cell_type": "code",
   "execution_count": null,
   "id": "e5f4f8bf-8c45-414e-a98a-63df6367d8f3",
   "metadata": {},
   "outputs": [],
   "source": [
    "import pandas as pd\n",
    "import numpy as np\n",
    "import seaborn as sns\n",
    "import statsmodels.api as sm\n",
    "import statsmodels.formula.api as smf\n",
    "import matplotlib.pyplot as plt\n",
    "from scipy import stats\n",
    "from tableone import TableOne\n",
    "wd = '/Users/timvigers/Dropbox/Work/Kim Driscoll/BBGD/'\n",
    "# import warnings;\n",
    "# warnings.filterwarnings('ignore');"
   ]
  },
  {
   "cell_type": "code",
   "execution_count": null,
   "id": "feb368bd-9c07-4847-b9bf-f646fa85fd1e",
   "metadata": {},
   "outputs": [],
   "source": [
    "# Enable cell magic for Rpy2 interface\n",
    "%load_ext rpy2.ipython"
   ]
  },
  {
   "cell_type": "markdown",
   "id": "f070a375-ac1f-44ea-8efa-6ef997cf21da",
   "metadata": {},
   "source": [
    "# Participant and Data Characteristics"
   ]
  },
  {
   "cell_type": "markdown",
   "id": "da45a708-f0fa-43bc-9a04-1fbb2ad1a4ba",
   "metadata": {},
   "source": [
    "## Table 1: Participant Characteristics at Visit 1"
   ]
  },
  {
   "cell_type": "code",
   "execution_count": null,
   "id": "7239bbb6-f18d-45e4-a234-75a6bf2469ae",
   "metadata": {},
   "outputs": [],
   "source": [
    "df = pd.read_csv(wd+'Data_Clean/bbgd_master.csv')\n",
    "# Make pretty variables for Table 1\n",
    "df[\"Private Insurance\"] = ['Yes' if i == 1 else 'No' if i==0 else np.nan for i in df['p_insurance_commercial']]\n",
    "df[\"Total Household Income\"] = df[\"par_income\"].replace({1:\"Under $5K\",2:\"$5K-$9,999\",3:\"$10K-$19,999\",4:\"$20K-29,999\", \n",
    "                                                   5:\"$30K-39,999\",6:\"$40K-49,999\",7:\"$50K-59,999\",8:\"$60K-69,999\",\n",
    "                                                   9:\"$70K-79,999\",10:\"$80K-89,999\",11:\"$90K-99,999\",12:\"$100K +\"})\n",
    "df[\"Parent's Marital Status\"] = df[\"par_marital\"].replace({1:\"Married to Child's Biologic Father\",2:\"Married to Child's Stepfather\", \n",
    "                                                  3:\"Separated\",4:\"Divorced\",5:\"Widowed\",6:\"Single\",7:\"Living with Domestic Partner\"})\n",
    "df[\"Highest Degree Parent Completed\"] = df[\"par_degree\"].replace({1:\"No Degree\",2:\"High School\",3:\"Associate's\",4:\"Bachelor's\",\n",
    "                                                                  5:\"Master's\",6:\"Doctoral\"})\n",
    "df[\"Parent Ethnicity\"] = df[\"par_ethnicity\"].replace({1:\"Hispanic or Latino\",2:\"Not Hispanic or Latino\"})\n",
    "df[\"Parent Race\"] = df[\"par_race\"].replace({1:\"American Indian or Alaskan Native\",2:\"Asian\",3:\"Black or African American\",\n",
    "                                            4:\"Native Hawaiian or Pacific Islander\",5:\"White\"})\n",
    "df[\"Primary Male Caretaker\"] = df[\"par_race\"].replace({1:\"Father\",2:\"Stepfather\",3:\"Grandfather\",4:\"Uncle\",5:\"Mother's boyfriend/partner\",6:\"Other\"})\n",
    "# Main outcomes\n",
    "df[\"Parent Maintain High BG of HFS\"] = df[\"p_maintain_high\"]\n",
    "df[\"Parent Worry/Helplessness Subscale of HFS\"] = df[\"p_helpless\"]\n",
    "df[\"Parent Social Consequences Subscale of HFS\"] = df[\"p_social\"]\n",
    "df[\"Parent GAD-7 Score\"] = df[\"p_gad_total\"]\n",
    "# Make table 1\n",
    "cols = [\"Parent Maintain High BG of HFS\",\"Parent Worry/Helplessness Subscale of HFS\",\n",
    "        \"Parent Social Consequences Subscale of HFS\",\"Parent GAD-7 Score\",\n",
    "        \"Private Insurance\",\"Total Household Income\",\"Parent's Marital Status\",\n",
    "       \"Highest Degree Parent Completed\",\"Parent Race\",\"Parent Ethnicity\",\"Primary Male Caretaker\"]\n",
    "\n",
    "# Print\n",
    "t1 = TableOne(df.query(\"studyvisit == 1\"),columns=cols,groupby='treatment_group',pval=True,display_all=True,\n",
    "             normal_test=True,tukey_test=True,dip_test=True)\n",
    "t1"
   ]
  },
  {
   "cell_type": "markdown",
   "id": "7c2a5de8-806b-42ea-b8c3-b13ef65a2779",
   "metadata": {},
   "source": [
    "Highest Degree Parent Completed, Total Household Income, and Parent's Marital Status were not significant by Fisher's exact test either (p = 0.063, 0.969, and 0.297 respectively)."
   ]
  },
  {
   "cell_type": "markdown",
   "id": "291e2d16-2d5c-4f9a-b00c-6e4d5d387567",
   "metadata": {},
   "source": [
    "## Outcome Plots"
   ]
  },
  {
   "cell_type": "markdown",
   "id": "dcd32a7f-9583-4d3c-993a-59489bc65549",
   "metadata": {},
   "source": [
    "Two of the four outcomes were reasonably normally distributed, but 'p_social' and 'p_gad_total' were skewed and unable to be log-transformed due to many 0 values."
   ]
  },
  {
   "cell_type": "code",
   "execution_count": null,
   "id": "cd3baf75-33cf-4ece-94bc-28070b50097d",
   "metadata": {},
   "outputs": [],
   "source": [
    "# Define main outcomes for plotting\n",
    "var_list = [\"Parent Maintain High BG of HFS\",\"Parent Worry/Helplessness Subscale of HFS\",\"Parent Social Consequences Subscale of HFS\",\"Parent GAD-7 Score\"]\n",
    "# Plot\n",
    "fig = plt.figure(figsize = (15,20))\n",
    "ax = fig.gca()\n",
    "df[var_list].hist(ax = ax);# Semicolon hides the matplotlib descriptions in Jupyter"
   ]
  },
  {
   "cell_type": "markdown",
   "id": "11f42aa1-4dda-4063-8441-9689679b9b67",
   "metadata": {},
   "source": [
    "# Model Results\n",
    "All four outcomes were evaluated using a linear mixed model with random intercept for participant. Model assumptions were checked visually. Study visit was treated as a categorical variable to help account for non-linear trends and varying time to visits. In the following tables, \"C(studyvisit)[T.2]\" refers to study visit 2, \"C(studyvisit)[T.3]\" to visit 3, etc.\n",
    "\n",
    "Income was split into three groups: Under \\\\$5K-\\\\$29,999 (reference group); \\\\$30K-\\\\$69,999 (\"C(par_income)[T.Interval(4, 8, closed='right')]\"); and \\\\$70K-\\\\$100K+ (\"C(par_income)[T.Interval(8, 12, closed='right')]\")."
   ]
  },
  {
   "cell_type": "code",
   "execution_count": null,
   "id": "1fae1d08-e50b-4a6c-ae0a-07226faf2c11",
   "metadata": {},
   "outputs": [],
   "source": [
    "# Import age information\n",
    "v1_dates = pd.read_csv(wd+'Data_Clean/v1_dates.csv',usecols=['ID','T1','T1D_Onset'])\n",
    "v1_dates.rename(columns={'ID':'participant_id','T1':'t1_date','T1D_Onset':'t1d_onset'},inplace=True)\n",
    "# Merge, convert to date\n",
    "df = df.merge(v1_dates,how='left',on='participant_id')\n",
    "df['t1_date']=pd.to_datetime(df['t1_date'], errors='coerce', format='%m/%d/%y')\n",
    "df['t1d_onset']=pd.to_datetime(df['t1d_onset'], errors='coerce', format='%m/%d/%y')\n",
    "# Calculate age at T1\n",
    "df['c_dob']= pd.to_datetime(df['c_dob'], errors='coerce', format='%m/%d/%y')\n",
    "df['age']=df['t1_date']-df['c_dob']\n",
    "df['age']=[float(t.days)/365.25 for t in df['age']]\n",
    "# Calculate T1D duration at T1\n",
    "df['t1d_duration']=df['t1_date']-df['t1d_onset']\n",
    "df['t1d_duration']=[float(t.days)/365.25 for t in df['t1d_duration']]\n",
    "# Cut income into three levels, fill down \n",
    "df['par_income'] = df.groupby('participant_id')['par_income'].ffill()\n",
    "df['par_income'] = pd.cut(df['par_income'],[0,4,8,12])"
   ]
  },
  {
   "cell_type": "code",
   "execution_count": null,
   "id": "50c95701-72fb-4607-b4b5-18cf63b43565",
   "metadata": {},
   "outputs": [],
   "source": [
    "# Residual plotting function\n",
    "def plot_resid(model):\n",
    "    fig, ax = plt.subplots(1,2,figsize = (15,10))\n",
    "    res = model.resid\n",
    "    kde = sns.kdeplot(mdf.resid, fill = True,ax=ax[0])\n",
    "    kde.set_title(\"KDE Plot of Model Residuals\")\n",
    "    kde.set_xlabel(\"Residuals\")\n",
    "    qq = sm.qqplot(res,line='s',ax=ax[1])"
   ]
  },
  {
   "cell_type": "markdown",
   "id": "5f432a25-5667-4669-86f3-99a65e02d0c2",
   "metadata": {},
   "source": [
    "## Raw Scores"
   ]
  },
  {
   "cell_type": "markdown",
   "id": "1656f344-848e-4536-944a-7856900fbb2e",
   "metadata": {},
   "source": [
    "### Parent Maintain High BG of HFS"
   ]
  },
  {
   "cell_type": "markdown",
   "id": "584ff2b5-290a-48a8-87a4-f1faee0c62b8",
   "metadata": {},
   "source": [
    "#### Adjusted for Age"
   ]
  },
  {
   "cell_type": "code",
   "execution_count": null,
   "id": "b8ee7bee-aa52-4788-9ced-969133ce315a",
   "metadata": {},
   "outputs": [],
   "source": [
    "# Fit a random intercept for each participant\n",
    "ri_mod = smf.mixedlm(\"p_maintain_high ~ C(studyvisit)*C(treatment_group)+par_income+age\", \n",
    "                     df, groups=df[\"participant_id\"],missing = \"drop\")\n",
    "mdf = ri_mod.fit()\n",
    "results_summary = mdf.summary()\n",
    "results_summary.tables[1]"
   ]
  },
  {
   "cell_type": "code",
   "execution_count": null,
   "id": "1b15a3ec-d516-43a3-9123-8d26b463afca",
   "metadata": {},
   "outputs": [],
   "source": [
    "plot_resid(mdf)"
   ]
  },
  {
   "cell_type": "markdown",
   "id": "e2ee7bc9-89e0-4c56-a9d0-9b1e61a4ec73",
   "metadata": {},
   "source": [
    "#### Adjusted for T1D Duration"
   ]
  },
  {
   "cell_type": "code",
   "execution_count": null,
   "id": "4e2df04a-891c-403d-a5e2-332abc21678e",
   "metadata": {},
   "outputs": [],
   "source": [
    "# Fit a random intercept for each participant\n",
    "ri_mod = smf.mixedlm(\"p_maintain_high ~ C(studyvisit)*C(treatment_group)+par_income+t1d_duration\", \n",
    "                     df, groups=df[\"participant_id\"],missing = \"drop\")\n",
    "mdf = ri_mod.fit()\n",
    "results_summary = mdf.summary()\n",
    "results_summary.tables[1]"
   ]
  },
  {
   "cell_type": "code",
   "execution_count": null,
   "id": "93e0e66c-ac82-4e59-b8c1-1d6b7dc854d7",
   "metadata": {},
   "outputs": [],
   "source": [
    "plot_resid(mdf)"
   ]
  },
  {
   "cell_type": "markdown",
   "id": "e43de9f3-558a-476c-885d-99faf019528e",
   "metadata": {},
   "source": [
    "### Parent Worry/Helplessness Subscale of HFS"
   ]
  },
  {
   "cell_type": "markdown",
   "id": "6a9f3a28-859b-4c61-ad1c-71165393b0ee",
   "metadata": {},
   "source": [
    "#### Adjusted for Age"
   ]
  },
  {
   "cell_type": "code",
   "execution_count": null,
   "id": "b729555a-f6f4-4235-af17-827d7fc61295",
   "metadata": {},
   "outputs": [],
   "source": [
    "# Fit a random intercept for each participant\n",
    "ri_mod = smf.mixedlm(\"p_helpless ~ C(studyvisit)*C(treatment_group)+par_income+age\", \n",
    "                     df, groups=df[\"participant_id\"],missing = \"drop\")\n",
    "mdf = ri_mod.fit()\n",
    "results_summary = mdf.summary()\n",
    "results_summary.tables[1]"
   ]
  },
  {
   "cell_type": "code",
   "execution_count": null,
   "id": "7e320e9f-acc2-4754-882a-206c0cb071e4",
   "metadata": {},
   "outputs": [],
   "source": [
    "plot_resid(mdf)"
   ]
  },
  {
   "cell_type": "markdown",
   "id": "9d944c53-b158-4646-95f5-ba24dd208850",
   "metadata": {},
   "source": [
    "#### Adjusted for T1D Duration"
   ]
  },
  {
   "cell_type": "code",
   "execution_count": null,
   "id": "04be8d47-b8fd-401a-86ed-c50c4228b72a",
   "metadata": {},
   "outputs": [],
   "source": [
    "# Fit a random intercept for each participant\n",
    "ri_mod = smf.mixedlm(\"p_helpless ~ C(studyvisit)*C(treatment_group)+par_income+t1d_duration\", \n",
    "                     df, groups=df[\"participant_id\"],missing = \"drop\")\n",
    "mdf = ri_mod.fit()\n",
    "results_summary = mdf.summary()\n",
    "results_summary.tables[1]"
   ]
  },
  {
   "cell_type": "code",
   "execution_count": null,
   "id": "48168de7-f270-4f6d-9c4e-f6e265c81903",
   "metadata": {},
   "outputs": [],
   "source": [
    "plot_resid(mdf)"
   ]
  },
  {
   "cell_type": "markdown",
   "id": "cf68f2c2-e560-4fdf-8fb9-80a3d4c56096",
   "metadata": {},
   "source": [
    "### Parent Social Consequences Subscale of HFS"
   ]
  },
  {
   "cell_type": "markdown",
   "id": "2bd3f32d-df5f-499d-ad69-83bc7c86ac16",
   "metadata": {},
   "source": [
    "#### Adjusted for Age"
   ]
  },
  {
   "cell_type": "code",
   "execution_count": null,
   "id": "9eb71d12-34ba-4a94-b180-0e198363b933",
   "metadata": {},
   "outputs": [],
   "source": [
    "# Fit a random intercept for each participant\n",
    "ri_mod = smf.mixedlm(\"p_social ~ C(studyvisit)*C(treatment_group)+par_income+age\", \n",
    "                     df, groups=df[\"participant_id\"],missing = \"drop\")\n",
    "mdf = ri_mod.fit()\n",
    "results_summary = mdf.summary()\n",
    "results_summary.tables[1]"
   ]
  },
  {
   "cell_type": "code",
   "execution_count": null,
   "id": "7d37d0af-9c65-4d15-a04a-d1c3331887c7",
   "metadata": {},
   "outputs": [],
   "source": [
    "plot_resid(mdf)"
   ]
  },
  {
   "cell_type": "markdown",
   "id": "1a3821ea-f740-4915-81c4-aa1c07f52cb4",
   "metadata": {},
   "source": [
    "#### Adjusted for T1D Duration"
   ]
  },
  {
   "cell_type": "code",
   "execution_count": null,
   "id": "d919afb7-149a-47d5-a6ee-ddcf21516d09",
   "metadata": {},
   "outputs": [],
   "source": [
    "# Fit a random intercept for each participant\n",
    "ri_mod = smf.mixedlm(\"p_social ~ C(studyvisit)*C(treatment_group)+par_income+t1d_duration\", \n",
    "                     df, groups=df[\"participant_id\"],missing = \"drop\")\n",
    "mdf = ri_mod.fit()\n",
    "results_summary = mdf.summary()\n",
    "results_summary.tables[1]"
   ]
  },
  {
   "cell_type": "code",
   "execution_count": null,
   "id": "0ac94ffe-4463-4a11-beed-6bfa888c64f2",
   "metadata": {},
   "outputs": [],
   "source": [
    "plot_resid(mdf)"
   ]
  },
  {
   "cell_type": "markdown",
   "id": "93b75a44-1fa0-4c3a-8875-5ec1cb7966d5",
   "metadata": {},
   "source": [
    "### Parent GAD-7 Score"
   ]
  },
  {
   "cell_type": "markdown",
   "id": "b9e8c84c-550d-423b-ad24-b9c70c6fc15f",
   "metadata": {},
   "source": [
    "#### Adjusted for Age"
   ]
  },
  {
   "cell_type": "code",
   "execution_count": null,
   "id": "bdcf96c0-055b-426c-b1d5-ebceb3889b8c",
   "metadata": {},
   "outputs": [],
   "source": [
    "# Fit a random intercept for each participant\n",
    "ri_mod = smf.mixedlm(\"p_gad_total ~ C(studyvisit)*C(treatment_group)+par_income+age\", \n",
    "                     df, groups=df[\"participant_id\"],missing = \"drop\")\n",
    "mdf = ri_mod.fit()\n",
    "results_summary = mdf.summary()\n",
    "results_summary.tables[1]"
   ]
  },
  {
   "cell_type": "code",
   "execution_count": null,
   "id": "4702bfab-4bcc-4ca1-81cb-b8ec70801802",
   "metadata": {},
   "outputs": [],
   "source": [
    "plot_resid(mdf)"
   ]
  },
  {
   "cell_type": "markdown",
   "id": "e47039ed-b12d-4c24-91a8-55ac5ac28c50",
   "metadata": {},
   "source": [
    "#### Adjusted for T1D Duration"
   ]
  },
  {
   "cell_type": "code",
   "execution_count": null,
   "id": "a2cf41c9-8a72-4e18-8971-6190cf50438f",
   "metadata": {},
   "outputs": [],
   "source": [
    "# Fit a random intercept for each participant\n",
    "ri_mod = smf.mixedlm(\"p_gad_total ~ C(studyvisit)*C(treatment_group)+par_income+t1d_duration\", \n",
    "                     df, groups=df[\"participant_id\"],missing = \"drop\")\n",
    "mdf = ri_mod.fit()\n",
    "results_summary = mdf.summary()\n",
    "results_summary.tables[1]"
   ]
  },
  {
   "cell_type": "code",
   "execution_count": null,
   "id": "779f8e39-3324-46da-97b4-05650d931d20",
   "metadata": {},
   "outputs": [],
   "source": [
    "plot_resid(mdf)"
   ]
  },
  {
   "cell_type": "markdown",
   "id": "e7fdb4fb-d479-49bc-81bd-e08e0cc994d1",
   "metadata": {},
   "source": [
    "## Elevated Scores vs. Not Elevated"
   ]
  },
  {
   "cell_type": "markdown",
   "id": "d6e6c812-307e-4216-bf54-cdabd0a2d04c",
   "metadata": {},
   "source": [
    "All four outcomes were evaluated using a logistic mixed model with random intercept for participant. Coefficient estimates are reported on the log scale."
   ]
  },
  {
   "cell_type": "code",
   "execution_count": 30,
   "id": "7d673e07-9e87-42cb-b90a-e9f692da2df2",
   "metadata": {},
   "outputs": [],
   "source": [
    "# Make cutoffs:\n",
    "# GAD-7 >=10 considered elevated\n",
    "# Maintain High BG >=7 considered elevated\n",
    "# Helplessness >=24 considered elevated\n",
    "# Social Consequences >=9 considered elevated\n",
    "df['p_elevated_maintain']=[float(1) if m >= 7 else float(0) if m < 7 else np.nan for m in df['p_maintain_high']]\n",
    "df['p_elevated_helpless']=[float(1) if m >= 24 else float(0) if m < 24 else np.nan for m in df['p_helpless']]\n",
    "df['p_elevated_social']=[float(1) if m >= 9 else float(0) if m < 9 else np.nan for m in df['p_social']]\n",
    "df['p_elevated_gad']=[float(1) if m >= 10 else float(0) if m < 10 else np.nan for m in df['p_gad_total']]\n",
    "# Make simplified DF for R\n",
    "log_df = df[['participant_id','studyvisit','treatment_group','par_income','age','t1d_duration',\n",
    "             'p_elevated_maintain','p_elevated_helpless','p_elevated_social','p_elevated_gad']].copy().dropna()\n",
    "log_df['par_income'] = log_df['par_income'].astype('str')"
   ]
  },
  {
   "cell_type": "markdown",
   "id": "e934b1a2-4f5e-45ef-bc03-8981f1a10dfa",
   "metadata": {},
   "source": [
    "### Parent Maintain High BG of HFS"
   ]
  },
  {
   "cell_type": "markdown",
   "id": "c7d88bb0-10bd-410a-9437-e9dc8cb13ca7",
   "metadata": {},
   "source": [
    "#### Adjusted for Age"
   ]
  },
  {
   "cell_type": "code",
   "execution_count": null,
   "id": "9d9b7af3-093d-4b58-aa08-0a7888718558",
   "metadata": {},
   "outputs": [],
   "source": [
    "%%R -i log_df\n",
    "suppressMessages(library(lme4))\n",
    "suppressMessages(library(lmerTest))\n",
    "mod <- glmer(p_elevated_maintain ~ factor(studyvisit)*factor(treatment_group)+factor(par_income)+age+(1|participant_id),data = log_df,family = binomial(link = \"logit\"))\n",
    "print(summary(mod)$coefficients[,c(1,4)])"
   ]
  },
  {
   "cell_type": "markdown",
   "id": "914a02f9-84ff-4aa6-a929-38be54269d26",
   "metadata": {},
   "source": [
    "#### Adjusted for T1D Duration"
   ]
  },
  {
   "cell_type": "code",
   "execution_count": null,
   "id": "ede17593-202e-4091-87b5-146ec5a2a337",
   "metadata": {},
   "outputs": [],
   "source": [
    "%%R -i log_df\n",
    "suppressMessages(library(lme4))\n",
    "suppressMessages(library(lmerTest))\n",
    "mod <- glmer(p_elevated_maintain ~ factor(studyvisit)*factor(treatment_group)+factor(par_income)+t1d_duration+(1|participant_id),data = log_df,family = binomial(link = \"logit\"))\n",
    "print(summary(mod)$coefficients[,c(1,4)])"
   ]
  },
  {
   "cell_type": "markdown",
   "id": "07971da7-76ee-4e4c-99f2-3da967626ea9",
   "metadata": {},
   "source": [
    "### Parent Worry/Helplessness Subscale of HFS"
   ]
  },
  {
   "cell_type": "markdown",
   "id": "3f8a2f91-5ea7-4cd2-a102-77d4564fa5de",
   "metadata": {},
   "source": [
    "#### Adjusted for Age"
   ]
  },
  {
   "cell_type": "code",
   "execution_count": 31,
   "id": "a08f3e97-a5b6-4984-9ebf-da3cde2f91d6",
   "metadata": {},
   "outputs": [
    {
     "name": "stdout",
     "output_type": "stream",
     "text": [
      "                                                 Estimate   Pr(>|z|)\n",
      "(Intercept)                                  -4.354672606 0.19742613\n",
      "factor(studyvisit)2                           1.265994906 0.29154967\n",
      "factor(studyvisit)3                          -3.430425887 0.03312979\n",
      "factor(studyvisit)4                          -1.263320729 0.32753177\n",
      "factor(studyvisit)5                           0.006608137 0.99597058\n",
      "factor(studyvisit)6                          -0.595844491 0.63598443\n",
      "factor(studyvisit)7                          -0.355464173 0.77304081\n",
      "factor(studyvisit)8                           0.227307702 0.84478853\n",
      "factor(treatment_group)1                      3.309591063 0.04095204\n",
      "factor(par_income)(4, 8]                      1.794736700 0.46671360\n",
      "factor(par_income)(8, 12]                     1.852554680 0.40430626\n",
      "age                                          -0.041226903 0.81503457\n",
      "factor(studyvisit)2:factor(treatment_group)1 -2.421744536 0.13155422\n",
      "factor(studyvisit)3:factor(treatment_group)1 -1.960965954 0.43016272\n",
      "factor(studyvisit)4:factor(treatment_group)1 -0.733697581 0.67107542\n",
      "factor(studyvisit)5:factor(treatment_group)1 -3.651550718 0.05596087\n",
      "factor(studyvisit)6:factor(treatment_group)1 -3.060101225 0.10144598\n",
      "factor(studyvisit)7:factor(treatment_group)1 -0.992789410 0.54325056\n",
      "factor(studyvisit)8:factor(treatment_group)1 -5.497137368 0.01527000\n"
     ]
    }
   ],
   "source": [
    "%%R -i log_df\n",
    "suppressMessages(library(lme4))\n",
    "suppressMessages(library(lmerTest))\n",
    "mod <- glmer(p_elevated_helpless ~ factor(studyvisit)*factor(treatment_group)+factor(par_income)+age+(1|participant_id),data = log_df,family = binomial(link = \"logit\"))\n",
    "print(summary(mod)$coefficients[,c(1,4)])"
   ]
  },
  {
   "cell_type": "markdown",
   "id": "932caf4e-ed68-4aa2-92ea-5c5fb94d539a",
   "metadata": {},
   "source": [
    "#### Adjusted for T1D Duration"
   ]
  },
  {
   "cell_type": "code",
   "execution_count": 32,
   "id": "603ad81e-f58e-438f-b3d2-48638c37064d",
   "metadata": {},
   "outputs": [
    {
     "name": "stdout",
     "output_type": "stream",
     "text": [
      "                                                Estimate   Pr(>|z|)\n",
      "(Intercept)                                  -6.58490061 0.04104814\n",
      "factor(studyvisit)2                           1.11002248 0.35165510\n",
      "factor(studyvisit)3                          -3.73983745 0.02241959\n",
      "factor(studyvisit)4                          -1.54043953 0.23770607\n",
      "factor(studyvisit)5                          -0.18878223 0.88508708\n",
      "factor(studyvisit)6                          -0.84218043 0.50571346\n",
      "factor(studyvisit)7                          -0.54165013 0.65805368\n",
      "factor(studyvisit)8                           0.04343862 0.97001680\n",
      "factor(treatment_group)1                      3.11568102 0.05576728\n",
      "factor(par_income)(4, 8]                      2.56189840 0.34242920\n",
      "factor(par_income)(8, 12]                     2.39140427 0.31649018\n",
      "t1d_duration                                  0.19225151 0.29423227\n",
      "factor(studyvisit)2:factor(treatment_group)1 -2.33936669 0.14680270\n",
      "factor(studyvisit)3:factor(treatment_group)1 -1.83524424 0.47013552\n",
      "factor(studyvisit)4:factor(treatment_group)1 -0.59456192 0.73476878\n",
      "factor(studyvisit)5:factor(treatment_group)1 -3.65471004 0.05963182\n",
      "factor(studyvisit)6:factor(treatment_group)1 -3.01142201 0.11382595\n",
      "factor(studyvisit)7:factor(treatment_group)1 -0.92237688 0.57411016\n",
      "factor(studyvisit)8:factor(treatment_group)1 -5.63658804 0.01707303\n"
     ]
    }
   ],
   "source": [
    "%%R -i log_df\n",
    "suppressMessages(library(lme4))\n",
    "suppressMessages(library(lmerTest))\n",
    "mod <- glmer(p_elevated_helpless ~ factor(studyvisit)*factor(treatment_group)+factor(par_income)+t1d_duration+(1|participant_id),data = log_df,family = binomial(link = \"logit\"))\n",
    "print(summary(mod)$coefficients[,c(1,4)])"
   ]
  },
  {
   "cell_type": "markdown",
   "id": "7283ac84-0d4f-4821-85a2-c52a717a8d96",
   "metadata": {},
   "source": [
    "### Parent Social Consequences Subscale of HFS"
   ]
  },
  {
   "cell_type": "markdown",
   "id": "bf29edb5-365d-4cd3-a01c-8378fdd50e81",
   "metadata": {},
   "source": [
    "#### Adjusted for Age"
   ]
  },
  {
   "cell_type": "code",
   "execution_count": 33,
   "id": "716fd5e8-29bd-4015-b4c8-c72a1030cf21",
   "metadata": {},
   "outputs": [
    {
     "name": "stdout",
     "output_type": "stream",
     "text": [
      "                                                Estimate    Pr(>|z|)\n",
      "(Intercept)                                   -4.9624551 0.284389585\n",
      "factor(studyvisit)2                            0.8884280 0.844436853\n",
      "factor(studyvisit)3                            7.8696466 0.009980582\n",
      "factor(studyvisit)4                           -0.3845831 0.906177309\n",
      "factor(studyvisit)5                            0.5858532 0.890760220\n",
      "factor(studyvisit)6                          -14.6650311 0.997505362\n",
      "factor(studyvisit)7                            0.3819080 0.925578176\n",
      "factor(studyvisit)8                            2.4507189 0.411244455\n",
      "factor(treatment_group)1                       5.0901791 0.114428109\n",
      "factor(par_income)(4, 8]                       2.4646172 0.479410902\n",
      "factor(par_income)(8, 12]                      0.2200248 0.946688755\n",
      "age                                           -0.2734210 0.158419416\n",
      "factor(studyvisit)2:factor(treatment_group)1  -2.0587172 0.661920569\n",
      "factor(studyvisit)3:factor(treatment_group)1  -5.8108283 0.074493353\n",
      "factor(studyvisit)4:factor(treatment_group)1  -1.7766591 0.625475041\n",
      "factor(studyvisit)5:factor(treatment_group)1  -1.4006500 0.754422349\n",
      "factor(studyvisit)6:factor(treatment_group)1  14.6918355 0.997500803\n",
      "factor(studyvisit)7:factor(treatment_group)1  -0.3483514 0.935058190\n",
      "factor(studyvisit)8:factor(treatment_group)1  -2.4298412 0.452422971\n"
     ]
    }
   ],
   "source": [
    "%%R -i log_df\n",
    "suppressMessages(library(lme4))\n",
    "suppressMessages(library(lmerTest))\n",
    "mod <- glmer(p_elevated_social ~ factor(studyvisit)*factor(treatment_group)+factor(par_income)+age+(1|participant_id),data = log_df,family = binomial(link = \"logit\"))\n",
    "print(summary(mod)$coefficients[,c(1,4)])"
   ]
  },
  {
   "cell_type": "markdown",
   "id": "7279b8d9-2fc2-497a-9677-be5da5501b8d",
   "metadata": {},
   "source": [
    "#### Adjusted for T1D Duration"
   ]
  },
  {
   "cell_type": "code",
   "execution_count": 34,
   "id": "415e9f72-9b59-4d25-aab4-7be90312b2cd",
   "metadata": {},
   "outputs": [
    {
     "name": "stdout",
     "output_type": "stream",
     "text": [
      "                                                Estimate    Pr(>|z|)\n",
      "(Intercept)                                   -6.7490755 0.104911519\n",
      "factor(studyvisit)2                            0.6534093 0.843947733\n",
      "factor(studyvisit)3                            7.9173105 0.007295597\n",
      "factor(studyvisit)4                           -0.4195572 0.878233238\n",
      "factor(studyvisit)5                            0.4209178 0.895605213\n",
      "factor(studyvisit)6                          -15.9903997 0.980302482\n",
      "factor(studyvisit)7                            0.4483691 0.883831090\n",
      "factor(studyvisit)8                            2.3007158 0.350074536\n",
      "factor(treatment_group)1                       4.5513054 0.100585097\n",
      "factor(par_income)(4, 8]                       1.8722273 0.555905897\n",
      "factor(par_income)(8, 12]                     -0.3736559 0.897805932\n",
      "t1d_duration                                  -0.1475118 0.478683490\n",
      "factor(studyvisit)2:factor(treatment_group)1  -1.7591474 0.623766037\n",
      "factor(studyvisit)3:factor(treatment_group)1  -5.7172400 0.059751125\n",
      "factor(studyvisit)4:factor(treatment_group)1  -1.6158773 0.610548502\n",
      "factor(studyvisit)5:factor(treatment_group)1  -1.1075464 0.751218247\n",
      "factor(studyvisit)6:factor(treatment_group)1  16.1227139 0.980139573\n",
      "factor(studyvisit)7:factor(treatment_group)1  -0.3182231 0.923532152\n",
      "factor(studyvisit)8:factor(treatment_group)1  -2.1556710 0.432708565\n"
     ]
    }
   ],
   "source": [
    "%%R -i log_df\n",
    "suppressMessages(library(lme4))\n",
    "suppressMessages(library(lmerTest))\n",
    "mod <- glmer(p_elevated_social ~ factor(studyvisit)*factor(treatment_group)+factor(par_income)+t1d_duration+(1|participant_id),data = log_df,family = binomial(link = \"logit\"))\n",
    "print(summary(mod)$coefficients[,c(1,4)])"
   ]
  },
  {
   "cell_type": "markdown",
   "id": "3ae87323-554e-426c-b606-9c3fd63d5c05",
   "metadata": {},
   "source": [
    "### Parent GAD-7 Score"
   ]
  },
  {
   "cell_type": "markdown",
   "id": "3f2e4f21-39c5-4d79-a449-aa16eb2e89b2",
   "metadata": {},
   "source": [
    "#### Adjusted for Age"
   ]
  },
  {
   "cell_type": "code",
   "execution_count": 35,
   "id": "3074ca9f-3abe-46d1-ba1e-8cd1fdab4db1",
   "metadata": {},
   "outputs": [
    {
     "name": "stdout",
     "output_type": "stream",
     "text": [
      "                                                Estimate   Pr(>|z|)\n",
      "(Intercept)                                  -0.42980278 0.79941059\n",
      "factor(studyvisit)2                           1.07166001 0.24432866\n",
      "factor(studyvisit)3                          -0.15202846 0.86264653\n",
      "factor(studyvisit)4                           1.13593940 0.21048892\n",
      "factor(studyvisit)5                          -0.87805051 0.33156341\n",
      "factor(studyvisit)6                           0.87872370 0.33204019\n",
      "factor(studyvisit)7                           0.14121511 0.86932063\n",
      "factor(studyvisit)8                          -0.87550480 0.29133574\n",
      "factor(treatment_group)1                      0.85252121 0.42000396\n",
      "factor(par_income)(4, 8]                      3.02512891 0.01629773\n",
      "factor(par_income)(8, 12]                     1.99908921 0.06691951\n",
      "age                                          -0.03945028 0.67717497\n",
      "factor(studyvisit)2:factor(treatment_group)1 -0.59650425 0.67917682\n",
      "factor(studyvisit)3:factor(treatment_group)1 -0.19548952 0.88150178\n",
      "factor(studyvisit)4:factor(treatment_group)1 -1.97547922 0.14347251\n",
      "factor(studyvisit)5:factor(treatment_group)1 -1.74641155 0.19161512\n",
      "factor(studyvisit)6:factor(treatment_group)1 -1.72850100 0.19152161\n",
      "factor(studyvisit)7:factor(treatment_group)1 -1.39241157 0.27700063\n",
      "factor(studyvisit)8:factor(treatment_group)1 -1.11991508 0.37162368\n"
     ]
    }
   ],
   "source": [
    "%%R -i log_df\n",
    "suppressMessages(library(lme4))\n",
    "suppressMessages(library(lmerTest))\n",
    "mod <- glmer(p_elevated_gad ~ factor(studyvisit)*factor(treatment_group)+factor(par_income)+age+(1|participant_id),data = log_df,family = binomial(link = \"logit\"))\n",
    "print(summary(mod)$coefficients[,c(1,4)])"
   ]
  },
  {
   "cell_type": "markdown",
   "id": "5c3befb0-cb0c-4ff9-8f79-8b77cc3289a6",
   "metadata": {},
   "source": [
    "#### Adjusted for T1D Duration"
   ]
  },
  {
   "cell_type": "code",
   "execution_count": 36,
   "id": "d338f1df-0397-4c55-a9d5-f7df3b100bb2",
   "metadata": {},
   "outputs": [
    {
     "name": "stdout",
     "output_type": "stream",
     "text": [
      "                                                Estimate   Pr(>|z|)\n",
      "(Intercept)                                   0.04494058 0.97583765\n",
      "factor(studyvisit)2                           1.06776400 0.24544090\n",
      "factor(studyvisit)3                          -0.17022415 0.84631058\n",
      "factor(studyvisit)4                           1.12507777 0.21389856\n",
      "factor(studyvisit)5                          -0.87897326 0.32925924\n",
      "factor(studyvisit)6                           0.87572056 0.33304743\n",
      "factor(studyvisit)7                           0.14767785 0.86288888\n",
      "factor(studyvisit)8                          -0.87986608 0.28792427\n",
      "factor(treatment_group)1                      0.84668518 0.41870127\n",
      "factor(par_income)(4, 8]                      2.62263369 0.04357088\n",
      "factor(par_income)(8, 12]                     1.70303200 0.12692512\n",
      "t1d_duration                                 -0.10015170 0.29356615\n",
      "factor(studyvisit)2:factor(treatment_group)1 -0.63071986 0.66203876\n",
      "factor(studyvisit)3:factor(treatment_group)1 -0.19461441 0.88228600\n",
      "factor(studyvisit)4:factor(treatment_group)1 -1.96702383 0.14612388\n",
      "factor(studyvisit)5:factor(treatment_group)1 -1.75557468 0.18886323\n",
      "factor(studyvisit)6:factor(treatment_group)1 -1.73656734 0.18989826\n",
      "factor(studyvisit)7:factor(treatment_group)1 -1.41165612 0.27042031\n",
      "factor(studyvisit)8:factor(treatment_group)1 -1.12853457 0.36808716\n"
     ]
    }
   ],
   "source": [
    "%%R -i log_df\n",
    "suppressMessages(library(lme4))\n",
    "suppressMessages(library(lmerTest))\n",
    "mod <- glmer(p_elevated_gad ~ factor(studyvisit)*factor(treatment_group)+factor(par_income)+t1d_duration+(1|participant_id),data = log_df,family = binomial(link = \"logit\"))\n",
    "print(summary(mod)$coefficients[,c(1,4)])"
   ]
  }
 ],
 "metadata": {
  "kernelspec": {
   "display_name": "Python 3",
   "language": "python",
   "name": "python3"
  },
  "language_info": {
   "codemirror_mode": {
    "name": "ipython",
    "version": 3
   },
   "file_extension": ".py",
   "mimetype": "text/x-python",
   "name": "python",
   "nbconvert_exporter": "python",
   "pygments_lexer": "ipython3",
   "version": "3.9.5"
  },
  "metadata": {
   "interpreter": {
    "hash": "7812ea015bdcee6f23a998adcdd2ef97c151c0c241b7b7070987d9313e41299d"
   }
  }
 },
 "nbformat": 4,
 "nbformat_minor": 5
}

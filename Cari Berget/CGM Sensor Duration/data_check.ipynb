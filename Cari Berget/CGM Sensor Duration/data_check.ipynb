{
  "cells": [
    {
      "cell_type": "code",
      "source": [
        "import pandas as pd\n",
        "import os\n",
        "import math"
      ],
      "outputs": [],
      "execution_count": 1,
      "metadata": {
        "execution": {
          "iopub.status.busy": "2020-07-21T21:26:19.214Z",
          "iopub.execute_input": "2020-07-21T21:26:19.219Z",
          "iopub.status.idle": "2020-07-21T21:26:19.482Z",
          "shell.execute_reply": "2020-07-21T21:26:19.475Z"
        }
      }
    },
    {
      "cell_type": "code",
      "source": [
        "# Serial numbers from Cari\n",
        "sns = pd.read_excel(\"/Users/timvigers/Documents/OneDrive - The University of Colorado Denver/Control IQ/DCLP pump SN.xlsx\")\n",
        "# SNs only\n",
        "sns = sns['pump 1 SN '].tolist() + \\\n",
        "    sns['pump 2 SN '].tolist() + \\\n",
        "    sns['pump 3 SN'].tolist()\n",
        "sns = [x for x in sns if str(x) != 'nan']\n",
        "# Get list of pump files\n",
        "control_dir = \"/Users/timvigers/Documents/OneDrive - The University of Colorado Denver/Control IQ/Controls/\"\n",
        "control_files = os.listdir(control_dir)\n",
        "iq_dir = \"/Users/timvigers/Documents/OneDrive - The University of Colorado Denver/Control IQ/Control-IQ/\"\n",
        "iq_files = os.listdir(iq_dir)"
      ],
      "outputs": [],
      "execution_count": 2,
      "metadata": {
        "execution": {
          "iopub.status.busy": "2020-07-21T21:26:19.489Z",
          "iopub.execute_input": "2020-07-21T21:26:19.494Z",
          "iopub.status.idle": "2020-07-21T21:26:19.532Z",
          "shell.execute_reply": "2020-07-21T21:26:19.547Z"
        }
      }
    },
    {
      "cell_type": "code",
      "source": [
        "garret_sns = []\n",
        "missing_from_cari = []\n",
        "# Loop through control files - if missing from Cari's file add to list\n",
        "for file in control_files:\n",
        "    df = pd.read_csv(control_dir+file)\n",
        "    sn = pd.Series(df.iloc[0,0])\n",
        "    garret_sns.append(sn)\n",
        "    if not sn.isin(sns)[0]:\n",
        "        missing_from_cari.append(float(sn))\n",
        "# IQ files\n",
        "for file in iq_files:\n",
        "    df = pd.read_csv(iq_dir+file)\n",
        "    sn = pd.Series(df.iloc[0,0])\n",
        "    garret_sns.append(sn)\n",
        "    if not sn.isin(sns)[0]:\n",
        "        missing_from_cari.append(float(sn))\n",
        "# Find which of Cari's SNs are missing from Garret\n",
        "missing_from_garret = []\n",
        "for s in sns:\n",
        "  sn = pd.Series(s)\n",
        "  if not sn.isin(garret_sns)[0]:\n",
        "        missing_from_garret.append(s)"
      ],
      "outputs": [],
      "execution_count": 3,
      "metadata": {
        "execution": {
          "iopub.status.busy": "2020-07-21T21:26:19.538Z",
          "iopub.execute_input": "2020-07-21T21:26:19.542Z",
          "iopub.status.idle": "2020-07-21T21:26:25.046Z",
          "shell.execute_reply": "2020-07-21T21:26:25.072Z"
        }
      }
    },
    {
      "cell_type": "code",
      "source": [
        "temp = pd.DataFrame(missing_from_garret,\n",
        "                    columns =['Missing from Garrett'])\n",
        "temp2 = pd.DataFrame(missing_from_cari,columns = ['Missing from Cari'])\n",
        "#temp = pd.concat(temp,pd.DataFrame(missing_from_cari),axis=1)\n",
        "df = pd.concat([temp,temp2],axis=1)\n",
        "df.to_csv(\"/Users/timvigers/Desktop/python.csv\",index=False)"
      ],
      "outputs": [],
      "execution_count": 4,
      "metadata": {
        "execution": {
          "iopub.status.busy": "2020-07-21T21:26:25.056Z",
          "iopub.execute_input": "2020-07-21T21:26:25.062Z",
          "iopub.status.idle": "2020-07-21T21:26:25.067Z",
          "shell.execute_reply": "2020-07-21T21:26:25.076Z"
        }
      }
    },
    {
      "cell_type": "code",
      "source": [],
      "outputs": [],
      "execution_count": null,
      "metadata": {
        "collapsed": true,
        "jupyter": {
          "source_hidden": false,
          "outputs_hidden": false
        },
        "nteract": {
          "transient": {
            "deleting": false
          }
        },
        "execution": {
          "iopub.status.busy": "2020-07-21T21:17:49.462Z",
          "iopub.execute_input": "2020-07-21T21:17:49.466Z",
          "iopub.status.idle": "2020-07-21T21:17:49.473Z",
          "shell.execute_reply": "2020-07-21T21:17:49.477Z"
        }
      }
    }
  ],
  "metadata": {
    "kernelspec": {
      "display_name": "Python 3",
      "language": "python",
      "name": "python3"
    },
    "language_info": {
      "name": "python",
      "version": "3.8.5",
      "mimetype": "text/x-python",
      "codemirror_mode": {
        "name": "ipython",
        "version": 3
      },
      "pygments_lexer": "ipython3",
      "nbconvert_exporter": "python",
      "file_extension": ".py"
    },
    "nteract": {
      "version": "0.24.0"
    }
  },
  "nbformat": 4,
  "nbformat_minor": 4
}
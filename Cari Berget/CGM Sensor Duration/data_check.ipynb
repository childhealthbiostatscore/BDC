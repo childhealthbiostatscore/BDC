{
  "cells": [
    {
      "cell_type": "code",
      "source": [
        "import pandas as pd\n",
        "import os\n",
        "import math"
      ],
      "outputs": [],
      "execution_count": null,
      "metadata": {
        "execution": {
          "iopub.status.busy": "2020-07-21T20:10:44.366Z",
          "iopub.execute_input": "2020-07-21T20:10:44.368Z",
          "iopub.status.idle": "2020-07-21T20:10:44.563Z",
          "shell.execute_reply": "2020-07-21T20:10:44.572Z"
        }
      }
    },
    {
      "cell_type": "code",
      "source": [
        "# Serial numbers from Cari\n",
        "sns = pd.read_excel(\"/Users/timvigers/Documents/OneDrive - The University of Colorado Denver/Control IQ/DCLP pump SN.xlsx\")\n",
        "# SNs only\n",
        "sns = sns['pump 1 SN '].tolist() + \\\n",
        "    sns['pump 2 SN '].tolist() + \\\n",
        "    sns['pump 3 SN'].tolist()\n",
        "sns = [x for x in sns if str(x) != 'nan']\n",
        "# Get list of pump files\n",
        "control_dir = \"/Users/timvigers/Documents/OneDrive - The University of Colorado Denver/Control IQ/Controls/\"\n",
        "control_files = os.listdir(control_dir)\n",
        "iq_dir = \"/Users/timvigers/Documents/OneDrive - The University of Colorado Denver/Control IQ/Control-IQ/\"\n",
        "iq_files = os.listdir(iq_dir)"
      ],
      "outputs": [
        {
          "output_type": "execute_result",
          "execution_count": 21,
          "data": {
            "text/plain": "[542807.0,\n 542291.0,\n 494027.0,\n 526126.0,\n 512988.0,\n 525863.0,\n 526261.0,\n 526642.0,\n 562829.0,\n 519734.0,\n 526157.0,\n 527895.0,\n 561661.0,\n 553668.0,\n 526575.0,\n 559456.0,\n 525991.0,\n 525527.0,\n 526654.0,\n 521482.0,\n 527095.0,\n 526298.0,\n 559271.0,\n 515919.0,\n 551465.0,\n 678592.0,\n 559736.0,\n 556514.0,\n 556879.0,\n 563254.0,\n 622974.0,\n 545222.0,\n 561350.0,\n 545527.0,\n 553635.0,\n 622125.0,\n 562747.0,\n 512458.0,\n 526755.0,\n 543014.0,\n 557841.0,\n 564039.0,\n 557328.0,\n 557063.0,\n 546059.0,\n 536693.0,\n 633182.0,\n 536752.0,\n 564214.0,\n 622469.0,\n 526168.0,\n 556882.0,\n 561023.0,\n 558107.0,\n 552967.0,\n 546054.0,\n 525478.0,\n 562539.0,\n 526599.0,\n 526550.0,\n 561447.0,\n 526096.0,\n 553014.0,\n 525180.0,\n 520791.0,\n 525395.0,\n 545506.0,\n 565378.0,\n 526395.0,\n 679152.0,\n 551826.0,\n 526110.0,\n 543509.0,\n 537813.0]"
          },
          "metadata": {}
        }
      ],
      "execution_count": 21,
      "metadata": {
        "execution": {
          "iopub.status.busy": "2020-07-21T20:16:01.871Z",
          "iopub.execute_input": "2020-07-21T20:16:01.875Z",
          "iopub.status.idle": "2020-07-21T20:16:01.882Z",
          "shell.execute_reply": "2020-07-21T20:16:01.886Z"
        }
      }
    },
    {
      "cell_type": "code",
      "source": [
        "control_sns = []\n",
        "for file in control_files:\n",
        "    df = pd.read_csv(control_dir+file)\n",
        "    sn = pd.Series(df.iloc[0,0])\n",
        "    control_sns.append(sn)\n",
        "    if not sn.isin(sns)[0]:\n",
        "        print(sn)"
      ],
      "outputs": [],
      "execution_count": null,
      "metadata": {
        "execution": {
          "iopub.status.busy": "2020-07-21T20:10:44.590Z",
          "iopub.execute_input": "2020-07-21T20:10:44.593Z",
          "iopub.status.idle": "2020-07-21T20:10:45.013Z",
          "shell.execute_reply": "2020-07-21T20:10:45.020Z"
        }
      }
    },
    {
      "cell_type": "code",
      "source": [],
      "outputs": [
        {
          "output_type": "execute_result",
          "execution_count": 20,
          "data": {
            "text/plain": "[542807.0,\n 542291.0,\n 494027.0,\n 526126.0,\n 512988.0,\n 525863.0,\n 526261.0,\n 526642.0,\n 562829.0,\n 519734.0,\n 526157.0,\n 527895.0,\n 561661.0,\n 553668.0,\n 526575.0,\n 559456.0,\n 525991.0,\n 525527.0,\n 526654.0,\n 521482.0,\n 527095.0,\n 526298.0,\n 559271.0,\n 515919.0,\n 551465.0,\n 678592.0,\n 559736.0,\n 556514.0,\n 556879.0,\n 563254.0,\n 622974.0,\n 545222.0,\n 561350.0,\n 545527.0,\n 553635.0,\n 622125.0,\n 562747.0,\n 512458.0,\n 526755.0,\n 543014.0,\n 557841.0,\n 564039.0,\n 557328.0,\n 557063.0,\n 546059.0,\n 536693.0,\n 633182.0,\n 536752.0,\n 564214.0,\n 622469.0,\n 526168.0,\n 556882.0,\n 561023.0,\n 558107.0,\n 552967.0,\n 546054.0,\n 525478.0,\n 562539.0,\n 526599.0,\n 526550.0,\n 561447.0,\n 526096.0,\n 553014.0,\n 525180.0,\n 520791.0,\n 525395.0,\n 545506.0,\n 565378.0,\n 526395.0,\n 679152.0,\n 551826.0,\n 526110.0,\n 543509.0,\n 537813.0]"
          },
          "metadata": {}
        }
      ],
      "execution_count": 20,
      "metadata": {
        "execution": {
          "iopub.status.busy": "2020-07-21T20:15:36.250Z",
          "iopub.execute_input": "2020-07-21T20:15:36.255Z",
          "iopub.status.idle": "2020-07-21T20:15:36.264Z",
          "shell.execute_reply": "2020-07-21T20:15:36.267Z"
        }
      }
    },
    {
      "cell_type": "code",
      "source": [],
      "outputs": [],
      "execution_count": null,
      "metadata": {
        "execution": {
          "iopub.status.busy": "2020-07-21T19:56:13.700Z",
          "iopub.execute_input": "2020-07-21T19:56:13.704Z",
          "iopub.status.idle": "2020-07-21T19:56:13.713Z",
          "shell.execute_reply": "2020-07-21T19:56:13.716Z"
        }
      }
    },
    {
      "cell_type": "code",
      "source": [],
      "outputs": [],
      "execution_count": null,
      "metadata": {
        "execution": {
          "iopub.status.busy": "2020-07-21T19:46:44.992Z",
          "iopub.execute_input": "2020-07-21T19:46:44.996Z",
          "iopub.status.idle": "2020-07-21T19:46:45.004Z",
          "shell.execute_reply": "2020-07-21T19:46:45.008Z"
        }
      }
    },
    {
      "cell_type": "code",
      "source": [],
      "outputs": [],
      "execution_count": null,
      "metadata": {}
    }
  ],
  "metadata": {
    "kernelspec": {
      "display_name": "Python 3",
      "language": "python",
      "name": "python3"
    },
    "language_info": {
      "name": "python",
      "version": "3.8.5",
      "mimetype": "text/x-python",
      "codemirror_mode": {
        "name": "ipython",
        "version": 3
      },
      "pygments_lexer": "ipython3",
      "nbconvert_exporter": "python",
      "file_extension": ".py"
    },
    "nteract": {
      "version": "0.24.0"
    }
  },
  "nbformat": 4,
  "nbformat_minor": 4
}
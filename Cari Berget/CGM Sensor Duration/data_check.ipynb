{
  "cells": [
    {
      "cell_type": "code",
      "source": [
        "import pandas as pd\n",
        "import os\n",
        "import math\n",
        "import datetime\n",
        "import dateutil"
      ],
      "outputs": [],
      "execution_count": 1,
      "metadata": {
        "execution": {
          "iopub.status.busy": "2020-07-22T15:03:38.943Z",
          "iopub.execute_input": "2020-07-22T15:03:38.946Z",
          "iopub.status.idle": "2020-07-22T15:03:39.267Z",
          "shell.execute_reply": "2020-07-22T15:03:39.264Z"
        }
      }
    },
    {
      "cell_type": "code",
      "source": [
        "# Serial numbers from Cari\n",
        "sns = pd.read_excel(\"/Users/timvigers/Documents/OneDrive - The University of Colorado Denver/Control IQ/DCLP pump SN.xlsx\")\n",
        "# SNs only\n",
        "sns = sns['pump 1 SN '].tolist() + \\\n",
        "    sns['pump 2 SN '].tolist() + \\\n",
        "    sns['pump 3 SN'].tolist()\n",
        "sns = [x for x in sns if str(x) != 'nan']\n",
        "# Get list of pump files\n",
        "control_dir = \"/Users/timvigers/Documents/OneDrive - The University of Colorado Denver/Control IQ/Controls/\"\n",
        "control_files = os.listdir(control_dir)\n",
        "iq_dir = \"/Users/timvigers/Documents/OneDrive - The University of Colorado Denver/Control IQ/Control-IQ/\"\n",
        "iq_files = os.listdir(iq_dir)"
      ],
      "outputs": [],
      "execution_count": 2,
      "metadata": {
        "execution": {
          "iopub.status.busy": "2020-07-22T15:03:39.271Z",
          "iopub.execute_input": "2020-07-22T15:03:39.274Z",
          "iopub.status.idle": "2020-07-22T15:03:39.298Z",
          "shell.execute_reply": "2020-07-22T15:03:39.300Z"
        }
      }
    },
    {
      "cell_type": "code",
      "source": [
        "garret_sns = []\n",
        "missing_from_cari = []\n",
        "from_cari = []\n",
        "start = []\n",
        "end = []\n",
        "# Loop through control files - if missing from Cari's file add to list\n",
        "# If present in Cari's file, get dates\n",
        "for file in control_files:\n",
        "    df = pd.read_csv(control_dir+file)\n",
        "    sn = pd.Series(df.iloc[0,0])\n",
        "    garret_sns.append(sn)\n",
        "    dates = df['pump_date']\n",
        "    dates = [dateutil.parser.parse(d) for d in dates]\n",
        "    if not sn.isin(sns)[0]:\n",
        "      missing_from_cari.append(float(sn))\n",
        "    else:\n",
        "      from_cari.append(float(sn)) \n",
        "      start.append(min(dates))\n",
        "      end.append(max(dates))\n",
        "# IQ files\n",
        "for file in iq_files:\n",
        "    df = pd.read_csv(iq_dir+file)\n",
        "    sn = pd.Series(df.iloc[0,0])\n",
        "    garret_sns.append(sn)\n",
        "    dates = df['pump_date']\n",
        "    dates = [dateutil.parser.parse(d) for d in dates]\n",
        "    if not sn.isin(sns)[0]:\n",
        "      missing_from_cari.append(float(sn))\n",
        "    else:\n",
        "      from_cari.append(float(sn)) \n",
        "      start.append(min(dates))\n",
        "      end.append(max(dates))\n",
        "\n",
        "# Find which of Cari's SNs are missing from Garret\n",
        "missing_from_garret = []\n",
        "for s in sns:\n",
        "  sn = pd.Series(s)\n",
        "  if not sn.isin(garret_sns)[0]:\n",
        "    missing_from_garret.append(s)\n",
        "# For the files from Garrett that are in Cari's document, \n",
        "len(from_cari)"
      ],
      "outputs": [],
      "execution_count": 3,
      "metadata": {
        "execution": {
          "iopub.status.busy": "2020-07-22T15:03:39.307Z",
          "iopub.execute_input": "2020-07-22T15:03:39.310Z",
          "iopub.status.idle": "2020-07-22T14:58:25.849Z",
          "shell.execute_reply": "2020-07-22T14:58:25.858Z"
        }
      }
    },
    {
      "cell_type": "code",
      "source": [
        "temp = pd.DataFrame(missing_from_garret,\n",
        "                    columns =['Missing from Garrett'])\n",
        "temp2 = pd.DataFrame(missing_from_cari,columns = ['Missing from Cari'])\n",
        "df = pd.concat([temp,temp2],axis=1)\n",
        "df.to_csv(\"/Users/timvigers/Desktop/python.csv\",index=False)"
      ],
      "outputs": [],
      "execution_count": null,
      "metadata": {
        "execution": {
          "iopub.status.busy": "2020-07-22T14:51:22.424Z",
          "iopub.execute_input": "2020-07-22T14:51:22.427Z",
          "iopub.status.idle": "2020-07-22T14:51:22.432Z",
          "shell.execute_reply": "2020-07-22T14:51:22.448Z"
        }
      }
    },
    {
      "cell_type": "code",
      "source": [],
      "outputs": [],
      "execution_count": null,
      "metadata": {
        "collapsed": true,
        "jupyter": {
          "source_hidden": false,
          "outputs_hidden": false
        },
        "nteract": {
          "transient": {
            "deleting": false
          }
        },
        "execution": {
          "iopub.status.busy": "2020-07-22T14:51:22.436Z",
          "iopub.execute_input": "2020-07-22T14:51:22.440Z",
          "iopub.status.idle": "2020-07-22T14:51:24.036Z",
          "shell.execute_reply": "2020-07-22T14:51:24.061Z"
        }
      }
    },
    {
      "cell_type": "code",
      "source": [],
      "outputs": [],
      "execution_count": null,
      "metadata": {
        "collapsed": true,
        "jupyter": {
          "source_hidden": false,
          "outputs_hidden": false
        },
        "nteract": {
          "transient": {
            "deleting": false
          }
        },
        "execution": {
          "iopub.status.busy": "2020-07-22T14:51:30.169Z",
          "iopub.execute_input": "2020-07-22T14:51:30.172Z",
          "iopub.status.idle": "2020-07-22T14:51:30.179Z",
          "shell.execute_reply": "2020-07-22T14:51:30.188Z"
        }
      }
    }
  ],
  "metadata": {
    "kernelspec": {
      "display_name": "Python 3",
      "language": "python",
      "name": "python3"
    },
    "language_info": {
      "name": "python",
      "version": "3.8.5",
      "mimetype": "text/x-python",
      "codemirror_mode": {
        "name": "ipython",
        "version": 3
      },
      "pygments_lexer": "ipython3",
      "nbconvert_exporter": "python",
      "file_extension": ".py"
    },
    "nteract": {
      "version": "0.24.0"
    }
  },
  "nbformat": 4,
  "nbformat_minor": 4
}
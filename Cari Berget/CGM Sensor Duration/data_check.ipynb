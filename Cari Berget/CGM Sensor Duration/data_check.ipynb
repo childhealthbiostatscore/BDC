{
 "cells": [
  {
   "cell_type": "code",
   "execution_count": 1,
   "metadata": {},
   "outputs": [],
   "source": [
    "import pandas as pd\n",
    "import os"
   ]
  },
  {
   "cell_type": "code",
   "execution_count": 2,
   "metadata": {},
   "outputs": [],
   "source": [
    "# Serial numbers from Cari\n",
    "sns = pd.read_excel(\"/Users/timvigers/Documents/OneDrive - The University of Colorado Denver/Control IQ/DCLP pump SN.xlsx\")\n",
    "# Get list of pump files\n",
    "control_dir = \"/Users/timvigers/Documents/OneDrive - The University of Colorado Denver/Control IQ/Controls/\"\n",
    "control_files = os.listdir(control_dir)\n",
    "iq_dir = \"/Users/timvigers/Documents/OneDrive - The University of Colorado Denver/Control IQ/Control-IQ/\"\n",
    "iq_files = os.listdir(iq_dir)"
   ]
  },
  {
   "cell_type": "code",
   "execution_count": 27,
   "metadata": {},
   "outputs": [
    {
     "name": "stdout",
     "output_type": "stream",
     "text": [
      "0    534965\n",
      "dtype: int64\n",
      "0    557056\n",
      "dtype: int64\n",
      "0    513660\n",
      "dtype: int64\n",
      "0    546138\n",
      "dtype: int64\n",
      "0    612676\n",
      "dtype: int64\n",
      "0    90505030\n",
      "dtype: int64\n",
      "0    525914\n",
      "dtype: int64\n",
      "0    546195\n",
      "dtype: int64\n",
      "0    91500283\n",
      "dtype: int64\n",
      "0    567401\n",
      "dtype: int64\n",
      "0    558013\n",
      "dtype: int64\n",
      "0    612793\n",
      "dtype: int64\n"
     ]
    }
   ],
   "source": [
    "for file in control_files:\n",
    "    df = pd.read_csv(control_dir+file)\n",
    "    sn = pd.Series(df.iloc[0,0])\n",
    "    if not sn.isin(sns['pump 1 SN '])[0]:\n",
    "        print(sn)"
   ]
  },
  {
   "cell_type": "code",
   "execution_count": 26,
   "metadata": {},
   "outputs": [
    {
     "data": {
      "text/plain": [
       "False"
      ]
     },
     "execution_count": 26,
     "metadata": {},
     "output_type": "execute_result"
    }
   ],
   "source": [
    "sn\n",
    "sn.isin(sns['pump 1 SN '])[0]"
   ]
  },
  {
   "cell_type": "code",
   "execution_count": 22,
   "metadata": {},
   "outputs": [
    {
     "data": {
      "text/plain": [
       "0     542807.0\n",
       "1     542291.0\n",
       "2     494027.0\n",
       "3     526126.0\n",
       "4     512988.0\n",
       "5     525863.0\n",
       "6     526261.0\n",
       "7     526642.0\n",
       "8     562829.0\n",
       "9     519734.0\n",
       "10    526157.0\n",
       "11    527895.0\n",
       "12    561661.0\n",
       "13    553668.0\n",
       "14    526575.0\n",
       "15    559456.0\n",
       "16    525991.0\n",
       "17    525527.0\n",
       "18    526654.0\n",
       "19    521482.0\n",
       "20    527095.0\n",
       "21    526298.0\n",
       "22    559271.0\n",
       "23    515919.0\n",
       "24         NaN\n",
       "25    551465.0\n",
       "26    678592.0\n",
       "27    559736.0\n",
       "28    556514.0\n",
       "29    556879.0\n",
       "30    563254.0\n",
       "31    622974.0\n",
       "32    545222.0\n",
       "33    561350.0\n",
       "34    545527.0\n",
       "35    553635.0\n",
       "36    622125.0\n",
       "37    562747.0\n",
       "38    512458.0\n",
       "39    526755.0\n",
       "40    543014.0\n",
       "41    557841.0\n",
       "42    564039.0\n",
       "43    557328.0\n",
       "44    557063.0\n",
       "45    546059.0\n",
       "46    536693.0\n",
       "47    633182.0\n",
       "48    536752.0\n",
       "49    564214.0\n",
       "50    622469.0\n",
       "51    526168.0\n",
       "52    556882.0\n",
       "Name: pump 1 SN , dtype: float64"
      ]
     },
     "execution_count": 22,
     "metadata": {},
     "output_type": "execute_result"
    }
   ],
   "source": [
    "sns['pump 1 SN ']"
   ]
  },
  {
   "cell_type": "code",
   "execution_count": 34,
   "metadata": {},
   "outputs": [
    {
     "data": {
      "text/plain": [
       "pandas.core.series.Series"
      ]
     },
     "execution_count": 34,
     "metadata": {},
     "output_type": "execute_result"
    }
   ],
   "source": []
  },
  {
   "cell_type": "code",
   "execution_count": null,
   "metadata": {},
   "outputs": [],
   "source": []
  }
 ],
 "metadata": {
  "kernelspec": {
   "display_name": "Python 3",
   "language": "python",
   "name": "python3"
  },
  "language_info": {
   "codemirror_mode": {
    "name": "ipython",
    "version": 3
   },
   "file_extension": ".py",
   "mimetype": "text/x-python",
   "name": "python",
   "nbconvert_exporter": "python",
   "pygments_lexer": "ipython3",
   "version": "3.8.5"
  }
 },
 "nbformat": 4,
 "nbformat_minor": 4
}
